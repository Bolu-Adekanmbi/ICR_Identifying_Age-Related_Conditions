{
 "cells": [
  {
   "cell_type": "markdown",
   "id": "7d740b45",
   "metadata": {
    "papermill": {
     "duration": 0.002719,
     "end_time": "2023-07-01T20:46:20.903328",
     "exception": false,
     "start_time": "2023-07-01T20:46:20.900609",
     "status": "completed"
    },
    "tags": []
   },
   "source": [
    "lightgbm\n",
    "\n",
    "Average Log Loss after Full Training: 0.2319\n",
    "Average Accuracy after Full Training: 0.9128\n",
    "Average Precision after Full Training: 0.7076\n",
    "Average Recall after Full Training: 0.9095\n",
    "Average F1-score after Full Training: 0.7907"
   ]
  },
  {
   "cell_type": "code",
   "execution_count": 1,
   "id": "174e84c5",
   "metadata": {
    "execution": {
     "iopub.execute_input": "2023-07-01T20:46:20.909383Z",
     "iopub.status.busy": "2023-07-01T20:46:20.909085Z",
     "iopub.status.idle": "2023-07-01T20:46:20.917775Z",
     "shell.execute_reply": "2023-07-01T20:46:20.916990Z"
    },
    "papermill": {
     "duration": 0.014255,
     "end_time": "2023-07-01T20:46:20.919843",
     "exception": false,
     "start_time": "2023-07-01T20:46:20.905588",
     "status": "completed"
    },
    "tags": []
   },
   "outputs": [],
   "source": [
    "# import numpy as np\n",
    "# import pandas as pd\n",
    "# import matplotlib.pyplot as plt\n",
    "# import seaborn as sns\n",
    "# from tqdm.notebook import tqdm\n",
    "# from sklearn.metrics import log_loss\n",
    "# from sklearn.model_selection import StratifiedKFold\n",
    "# from sklearn.impute import SimpleImputer\n",
    "# from xgboost import XGBClassifier\n",
    "# from sklearn import feature_selection\n",
    "\n",
    "\n",
    "# def select_k_best_features(train):\n",
    "#     # Define the target variable\n",
    "#     target = train['Class']\n",
    "    \n",
    "#     # Drop unnecessary columns\n",
    "#     train = train.drop(['Id', 'Class'], axis=1)\n",
    "    \n",
    "#     # Map 'EJ' column to binary values\n",
    "#     train['EJ'] = train['EJ'].map({'A': 0, 'B': 1})\n",
    "    \n",
    "#     # Define the imputer\n",
    "# #     imputer = SimpleImputer(strategy='mean')\n",
    "#     imputer = SimpleImputer(missing_values=np.nan, strategy='median')\n",
    "    \n",
    "#     # Apply mean imputation on the data\n",
    "#     train = pd.DataFrame(imputer.fit_transform(train), columns=train.columns)\n",
    "    \n",
    "#     # Define the threshold and t-score values\n",
    "#     threshold = 0.01\n",
    "#     t_score = 5\n",
    "    \n",
    "#     # Perform feature selection using SelectKBest and f_classif score function\n",
    "#     fs = feature_selection.SelectKBest(score_func=feature_selection.f_classif, k=len(train.columns))\n",
    "#     X_selected = fs.fit_transform(train, target.values)\n",
    "    \n",
    "#     print(f'Before the SelectKBest = {train.shape}')\n",
    "    \n",
    "#     new_features = []  # List of features with p-values below the threshold and scores above t_score\n",
    "#     drop_features = []  # List of features with p-values above the threshold or scores below t_score\n",
    "    \n",
    "#     for i in range(len(train.columns)):\n",
    "#         print('Feature {}: {:.3f} with p-value {:.3f}'.format(train.columns[i], fs.scores_[i], fs.pvalues_[i]))\n",
    "#         if fs.pvalues_[i] <= threshold and fs.scores_[i] >= t_score:\n",
    "#             new_features.append(train.columns[i])\n",
    "#         else:\n",
    "#             drop_features.append(train.columns[i])\n",
    "    \n",
    "#     X_selected_final = pd.DataFrame(X_selected)\n",
    "#     X_selected_final.columns = train.columns\n",
    "#     X_selected_final = X_selected_final[new_features]\n",
    "    \n",
    "#     print('=' * 30)\n",
    "#     print('After the SelectKBest = {}'.format(X_selected_final.shape))\n",
    "#     print('Drop-out Features = {}'.format(len(drop_features)))\n",
    "    \n",
    "#     return X_selected_final\n",
    "\n",
    "# # Define the number of bags and folds\n",
    "# bag_num = 5\n",
    "# n_fold = 10\n",
    "\n",
    "# # Define the competition log loss metric\n",
    "# def competition_log_loss(y_true, y_pred):\n",
    "#     N_0 = np.sum(1 - y_true)\n",
    "#     N_1 = np.sum(y_true)\n",
    "#     p_1 = np.clip(y_pred, 1e-15, 1 - 1e-15)\n",
    "#     p_0 = 1 - p_1\n",
    "#     log_loss_0 = -np.sum((1 - y_true) * np.log(p_0)) / N_0\n",
    "#     log_loss_1 = -np.sum(y_true * np.log(p_1)) / N_1\n",
    "#     return (log_loss_0 + log_loss_1) / 2\n",
    "\n",
    "# # Load the data\n",
    "# COMP_PATH = \"/kaggle/input/icr-identify-age-related-conditions\"\n",
    "# train = pd.read_csv(f\"{COMP_PATH}/train.csv\")\n",
    "# test = pd.read_csv(f\"{COMP_PATH}/test.csv\")\n",
    "\n",
    "# # train.drop(['EJ'],axis=1)\n",
    "\n",
    "# # test.drop(['EJ'],axis=1)\n",
    "\n",
    "# # Apply feature selection\n",
    "# df = select_k_best_features(train)\n",
    "# test_df = test[df.columns]\n",
    "\n",
    "# # Define the XGBoost parameters\n",
    "# xgb_params = {\n",
    "#     \"objective\": \"binary:logistic\",\n",
    "#     \"learning_rate\": 0.06733232950390658,\n",
    "#     \"n_estimators\": 50000,\n",
    "#     \"early_stopping_rounds\": 300,\n",
    "#     \"random_state\": 118,\n",
    "#     \"subsample\": 0.8,\n",
    "#     \"colsample_bytree\": 0.6055755840633003,\n",
    "#     \"scale_pos_weight\": 1 / np.mean(train['Class']),\n",
    "#     \"max_depth\": 3\n",
    "# }\n",
    "\n",
    "\n",
    "# # Initialize lists to store models and log losses\n",
    "# models = []\n",
    "# bag_log_losses = []\n",
    "# feature_importance_df_total = pd.DataFrame()\n",
    "# df['Class'] = train['Class']\n",
    "\n",
    "# # Perform bagging and feature selection\n",
    "# for bag in range(bag_num):\n",
    "#     print(f'########################## bag: {bag} ##########################')\n",
    "#     kf = StratifiedKFold(n_splits=n_fold, random_state=2023 * bag, shuffle=True)\n",
    "#     fold_losses = []\n",
    "#     for fold, (train_idx, test_idx) in enumerate(kf.split(df, df['Class'])):\n",
    "#         train_df = df.iloc[train_idx]\n",
    "#         valid_df = df.iloc[test_idx]\n",
    "#         valid_ids = valid_df.index.values\n",
    "\n",
    "#         X_train, y_train = train_df.drop('Class', axis=1), train_df['Class']\n",
    "#         X_valid, y_valid = valid_df.drop('Class', axis=1), valid_df['Class']\n",
    "\n",
    "#         xgb = XGBClassifier(**xgb_params)\n",
    "#         xgb.fit(X_train, y_train, eval_set=[(X_valid, y_valid)], verbose=False, eval_metric='logloss')\n",
    "\n",
    "#         models.append(xgb)\n",
    "\n",
    "#         # Calculate feature importances\n",
    "#         feature_importances = xgb.feature_importances_\n",
    "#         feature_importance_df = pd.DataFrame({'Feature': X_train.columns, 'Importance': feature_importances})\n",
    "#         feature_importance_df['Bag'] = bag\n",
    "#         feature_importance_df['Fold'] = fold\n",
    "#         feature_importance_df_total = pd.concat([feature_importance_df_total, feature_importance_df], axis=0)\n",
    "\n",
    "#         y_pred = xgb.predict_proba(X_valid)\n",
    "#         y_pred_postprocessed = np.where(y_pred[:, 1] > 0.8, 1, np.where(y_pred[:, 1] < 0.14, 0, y_pred[:, 1]))\n",
    "#         fold_loss = log_loss(y_valid, y_pred_postprocessed)\n",
    "#         fold_losses.append(fold_loss)\n",
    "        \n",
    "#         print(f\"Total train: {len(train_df)}, Total valid: {len(valid_df)}, Bags: {bag}, Fold: {fold}, Log Loss: {fold_loss:.4f}\")\n",
    "    \n",
    "#     avg_fold_loss = np.mean(fold_losses)\n",
    "#     bag_log_losses.append(avg_fold_loss)\n",
    "#     print(f\"Average Log Loss for Bag {bag}: {avg_fold_loss:.4f}\")\n",
    "\n",
    "# avg_loss = np.mean(bag_log_losses)\n",
    "# print(f\"Average Log Loss after Full Training: {avg_loss:.4f}\")\n",
    "\n",
    "# # Calculate weights based on inverse of log loss\n",
    "# weights = [1 / loss for loss in bag_log_losses]\n",
    "# total_weight = sum(weights)\n",
    "# weights = [weight / total_weight for weight in weights]\n",
    "\n",
    "# # Prepare submission dataframe\n",
    "# test_df_selected = test_df[X_train.columns]  # Apply the same feature selection to the test data\n",
    "# preds = np.zeros(len(test_df_selected))\n",
    "# for bag, weight in zip(range(bag_num), weights):\n",
    "#     for fold in range(n_fold):\n",
    "#         clf = models[bag * n_fold + fold]\n",
    "#         preds += weight * clf.predict_proba(test_df_selected)[:, 1] / n_fold\n",
    "\n",
    "# # Post-process predicted probabilities\n",
    "# preds_postprocessed = np.where(preds > 0.8, 1, np.where(preds < 0.14, 0, preds))\n",
    "\n",
    "# # Create submission dataframe\n",
    "# submission = pd.DataFrame({'Id': test['Id'], 'Class_0': 1 - preds_postprocessed, 'Class_1': preds_postprocessed})\n",
    "# submission.to_csv('submission.csv', index=False)\n",
    "# submission.head()\n"
   ]
  },
  {
   "cell_type": "code",
   "execution_count": 2,
   "id": "e620a921",
   "metadata": {
    "execution": {
     "iopub.execute_input": "2023-07-01T20:46:20.926109Z",
     "iopub.status.busy": "2023-07-01T20:46:20.925459Z",
     "iopub.status.idle": "2023-07-01T20:46:47.502620Z",
     "shell.execute_reply": "2023-07-01T20:46:47.501430Z"
    },
    "papermill": {
     "duration": 26.582441,
     "end_time": "2023-07-01T20:46:47.504506",
     "exception": false,
     "start_time": "2023-07-01T20:46:20.922065",
     "status": "completed"
    },
    "tags": []
   },
   "outputs": [
    {
     "name": "stdout",
     "output_type": "stream",
     "text": [
      "Before the SelectKBest = (617, 56)\n",
      "Feature AB: 52.566 with p-value 0.000\n",
      "Feature AF: 62.007 with p-value 0.000\n",
      "Feature AH: 1.228 with p-value 0.268\n",
      "Feature AM: 37.314 with p-value 0.000\n",
      "Feature AR: 2.560 with p-value 0.110\n",
      "Feature AX: 5.917 with p-value 0.015\n",
      "Feature AY: 4.206 with p-value 0.041\n",
      "Feature AZ: 0.112 with p-value 0.738\n",
      "Feature BC: 15.316 with p-value 0.000\n",
      "Feature BD : 7.839 with p-value 0.005\n",
      "Feature BN: 25.169 with p-value 0.000\n",
      "Feature BP: 15.600 with p-value 0.000\n",
      "Feature BQ: 58.146 with p-value 0.000\n",
      "Feature BR: 4.861 with p-value 0.028\n",
      "Feature BZ: 7.872 with p-value 0.005\n",
      "Feature CB: 0.128 with p-value 0.720\n",
      "Feature CC: 1.847 with p-value 0.175\n",
      "Feature CD : 18.593 with p-value 0.000\n",
      "Feature CF: 7.498 with p-value 0.006\n",
      "Feature CH: 0.041 with p-value 0.840\n",
      "Feature CL: 0.175 with p-value 0.676\n",
      "Feature CR: 33.582 with p-value 0.000\n",
      "Feature CS: 1.387 with p-value 0.239\n",
      "Feature CU: 4.285 with p-value 0.039\n",
      "Feature CW : 2.423 with p-value 0.120\n",
      "Feature DA: 26.873 with p-value 0.000\n",
      "Feature DE: 9.758 with p-value 0.002\n",
      "Feature DF: 2.551 with p-value 0.111\n",
      "Feature DH: 27.487 with p-value 0.000\n",
      "Feature DI: 44.868 with p-value 0.000\n",
      "Feature DL: 13.719 with p-value 0.000\n",
      "Feature DN: 0.044 with p-value 0.834\n",
      "Feature DU: 44.986 with p-value 0.000\n",
      "Feature DV: 0.147 with p-value 0.701\n",
      "Feature DY: 2.430 with p-value 0.120\n",
      "Feature EB: 4.800 with p-value 0.029\n",
      "Feature EE: 11.472 with p-value 0.001\n",
      "Feature EG: 0.373 with p-value 0.542\n",
      "Feature EH: 20.559 with p-value 0.000\n",
      "Feature EJ: 5.781 with p-value 0.016\n",
      "Feature EL: 2.566 with p-value 0.110\n",
      "Feature EP: 2.889 with p-value 0.090\n",
      "Feature EU: 0.973 with p-value 0.324\n",
      "Feature FC: 0.548 with p-value 0.460\n",
      "Feature FD : 10.755 with p-value 0.001\n",
      "Feature FE: 30.203 with p-value 0.000\n",
      "Feature FI: 5.521 with p-value 0.019\n",
      "Feature FL: 39.031 with p-value 0.000\n",
      "Feature FR: 6.738 with p-value 0.010\n",
      "Feature FS: 0.000 with p-value 0.985\n",
      "Feature GB: 4.302 with p-value 0.038\n",
      "Feature GE: 3.095 with p-value 0.079\n",
      "Feature GF: 10.278 with p-value 0.001\n",
      "Feature GH: 0.693 with p-value 0.406\n",
      "Feature GI: 3.658 with p-value 0.056\n",
      "Feature GL: 8.763 with p-value 0.003\n",
      "==============================\n",
      "After the SelectKBest = (617, 26)\n",
      "Drop-out Features = 30\n",
      "########################## bag: 0 ##########################\n"
     ]
    },
    {
     "name": "stderr",
     "output_type": "stream",
     "text": [
      "/opt/conda/lib/python3.10/site-packages/xgboost/sklearn.py:835: UserWarning: `eval_metric` in `fit` method is deprecated for better compatibility with scikit-learn, use `eval_metric` in constructor or`set_params` instead.\n",
      "  warnings.warn(\n"
     ]
    },
    {
     "name": "stdout",
     "output_type": "stream",
     "text": [
      "Total train: 555, Total valid: 62, Bags: 0, Fold: 0, Log Loss: 0.2580\n"
     ]
    },
    {
     "name": "stderr",
     "output_type": "stream",
     "text": [
      "/opt/conda/lib/python3.10/site-packages/xgboost/sklearn.py:835: UserWarning: `eval_metric` in `fit` method is deprecated for better compatibility with scikit-learn, use `eval_metric` in constructor or`set_params` instead.\n",
      "  warnings.warn(\n"
     ]
    },
    {
     "name": "stdout",
     "output_type": "stream",
     "text": [
      "Total train: 555, Total valid: 62, Bags: 0, Fold: 1, Log Loss: 0.0000\n"
     ]
    },
    {
     "name": "stderr",
     "output_type": "stream",
     "text": [
      "/opt/conda/lib/python3.10/site-packages/xgboost/sklearn.py:835: UserWarning: `eval_metric` in `fit` method is deprecated for better compatibility with scikit-learn, use `eval_metric` in constructor or`set_params` instead.\n",
      "  warnings.warn(\n"
     ]
    },
    {
     "name": "stdout",
     "output_type": "stream",
     "text": [
      "Total train: 555, Total valid: 62, Bags: 0, Fold: 2, Log Loss: 0.1534\n"
     ]
    },
    {
     "name": "stderr",
     "output_type": "stream",
     "text": [
      "/opt/conda/lib/python3.10/site-packages/xgboost/sklearn.py:835: UserWarning: `eval_metric` in `fit` method is deprecated for better compatibility with scikit-learn, use `eval_metric` in constructor or`set_params` instead.\n",
      "  warnings.warn(\n"
     ]
    },
    {
     "name": "stdout",
     "output_type": "stream",
     "text": [
      "Total train: 555, Total valid: 62, Bags: 0, Fold: 3, Log Loss: 0.1345\n"
     ]
    },
    {
     "name": "stderr",
     "output_type": "stream",
     "text": [
      "/opt/conda/lib/python3.10/site-packages/xgboost/sklearn.py:835: UserWarning: `eval_metric` in `fit` method is deprecated for better compatibility with scikit-learn, use `eval_metric` in constructor or`set_params` instead.\n",
      "  warnings.warn(\n"
     ]
    },
    {
     "name": "stdout",
     "output_type": "stream",
     "text": [
      "Total train: 555, Total valid: 62, Bags: 0, Fold: 4, Log Loss: 0.1541\n"
     ]
    },
    {
     "name": "stderr",
     "output_type": "stream",
     "text": [
      "/opt/conda/lib/python3.10/site-packages/xgboost/sklearn.py:835: UserWarning: `eval_metric` in `fit` method is deprecated for better compatibility with scikit-learn, use `eval_metric` in constructor or`set_params` instead.\n",
      "  warnings.warn(\n"
     ]
    },
    {
     "name": "stdout",
     "output_type": "stream",
     "text": [
      "Total train: 555, Total valid: 62, Bags: 0, Fold: 5, Log Loss: 0.1494\n"
     ]
    },
    {
     "name": "stderr",
     "output_type": "stream",
     "text": [
      "/opt/conda/lib/python3.10/site-packages/xgboost/sklearn.py:835: UserWarning: `eval_metric` in `fit` method is deprecated for better compatibility with scikit-learn, use `eval_metric` in constructor or`set_params` instead.\n",
      "  warnings.warn(\n"
     ]
    },
    {
     "name": "stdout",
     "output_type": "stream",
     "text": [
      "Total train: 555, Total valid: 62, Bags: 0, Fold: 6, Log Loss: 0.2101\n"
     ]
    },
    {
     "name": "stderr",
     "output_type": "stream",
     "text": [
      "/opt/conda/lib/python3.10/site-packages/xgboost/sklearn.py:835: UserWarning: `eval_metric` in `fit` method is deprecated for better compatibility with scikit-learn, use `eval_metric` in constructor or`set_params` instead.\n",
      "  warnings.warn(\n"
     ]
    },
    {
     "name": "stdout",
     "output_type": "stream",
     "text": [
      "Total train: 556, Total valid: 61, Bags: 0, Fold: 7, Log Loss: 0.1310\n"
     ]
    },
    {
     "name": "stderr",
     "output_type": "stream",
     "text": [
      "/opt/conda/lib/python3.10/site-packages/xgboost/sklearn.py:835: UserWarning: `eval_metric` in `fit` method is deprecated for better compatibility with scikit-learn, use `eval_metric` in constructor or`set_params` instead.\n",
      "  warnings.warn(\n"
     ]
    },
    {
     "name": "stdout",
     "output_type": "stream",
     "text": [
      "Total train: 556, Total valid: 61, Bags: 0, Fold: 8, Log Loss: 0.3999\n"
     ]
    },
    {
     "name": "stderr",
     "output_type": "stream",
     "text": [
      "/opt/conda/lib/python3.10/site-packages/xgboost/sklearn.py:835: UserWarning: `eval_metric` in `fit` method is deprecated for better compatibility with scikit-learn, use `eval_metric` in constructor or`set_params` instead.\n",
      "  warnings.warn(\n"
     ]
    },
    {
     "name": "stdout",
     "output_type": "stream",
     "text": [
      "Total train: 556, Total valid: 61, Bags: 0, Fold: 9, Log Loss: 0.2236\n",
      "Average Log Loss for Bag 0: 0.1814\n",
      "########################## bag: 1 ##########################\n"
     ]
    },
    {
     "name": "stderr",
     "output_type": "stream",
     "text": [
      "/opt/conda/lib/python3.10/site-packages/xgboost/sklearn.py:835: UserWarning: `eval_metric` in `fit` method is deprecated for better compatibility with scikit-learn, use `eval_metric` in constructor or`set_params` instead.\n",
      "  warnings.warn(\n"
     ]
    },
    {
     "name": "stdout",
     "output_type": "stream",
     "text": [
      "Total train: 555, Total valid: 62, Bags: 1, Fold: 0, Log Loss: 0.1404\n"
     ]
    },
    {
     "name": "stderr",
     "output_type": "stream",
     "text": [
      "/opt/conda/lib/python3.10/site-packages/xgboost/sklearn.py:835: UserWarning: `eval_metric` in `fit` method is deprecated for better compatibility with scikit-learn, use `eval_metric` in constructor or`set_params` instead.\n",
      "  warnings.warn(\n"
     ]
    },
    {
     "name": "stdout",
     "output_type": "stream",
     "text": [
      "Total train: 555, Total valid: 62, Bags: 1, Fold: 1, Log Loss: 0.1735\n"
     ]
    },
    {
     "name": "stderr",
     "output_type": "stream",
     "text": [
      "/opt/conda/lib/python3.10/site-packages/xgboost/sklearn.py:835: UserWarning: `eval_metric` in `fit` method is deprecated for better compatibility with scikit-learn, use `eval_metric` in constructor or`set_params` instead.\n",
      "  warnings.warn(\n"
     ]
    },
    {
     "name": "stdout",
     "output_type": "stream",
     "text": [
      "Total train: 555, Total valid: 62, Bags: 1, Fold: 2, Log Loss: 0.0975\n"
     ]
    },
    {
     "name": "stderr",
     "output_type": "stream",
     "text": [
      "/opt/conda/lib/python3.10/site-packages/xgboost/sklearn.py:835: UserWarning: `eval_metric` in `fit` method is deprecated for better compatibility with scikit-learn, use `eval_metric` in constructor or`set_params` instead.\n",
      "  warnings.warn(\n"
     ]
    },
    {
     "name": "stdout",
     "output_type": "stream",
     "text": [
      "Total train: 555, Total valid: 62, Bags: 1, Fold: 3, Log Loss: 0.2119\n"
     ]
    },
    {
     "name": "stderr",
     "output_type": "stream",
     "text": [
      "/opt/conda/lib/python3.10/site-packages/xgboost/sklearn.py:835: UserWarning: `eval_metric` in `fit` method is deprecated for better compatibility with scikit-learn, use `eval_metric` in constructor or`set_params` instead.\n",
      "  warnings.warn(\n"
     ]
    },
    {
     "name": "stdout",
     "output_type": "stream",
     "text": [
      "Total train: 555, Total valid: 62, Bags: 1, Fold: 4, Log Loss: 0.1149\n"
     ]
    },
    {
     "name": "stderr",
     "output_type": "stream",
     "text": [
      "/opt/conda/lib/python3.10/site-packages/xgboost/sklearn.py:835: UserWarning: `eval_metric` in `fit` method is deprecated for better compatibility with scikit-learn, use `eval_metric` in constructor or`set_params` instead.\n",
      "  warnings.warn(\n"
     ]
    },
    {
     "name": "stdout",
     "output_type": "stream",
     "text": [
      "Total train: 555, Total valid: 62, Bags: 1, Fold: 5, Log Loss: 0.2794\n"
     ]
    },
    {
     "name": "stderr",
     "output_type": "stream",
     "text": [
      "/opt/conda/lib/python3.10/site-packages/xgboost/sklearn.py:835: UserWarning: `eval_metric` in `fit` method is deprecated for better compatibility with scikit-learn, use `eval_metric` in constructor or`set_params` instead.\n",
      "  warnings.warn(\n"
     ]
    },
    {
     "name": "stdout",
     "output_type": "stream",
     "text": [
      "Total train: 555, Total valid: 62, Bags: 1, Fold: 6, Log Loss: 0.0528\n"
     ]
    },
    {
     "name": "stderr",
     "output_type": "stream",
     "text": [
      "/opt/conda/lib/python3.10/site-packages/xgboost/sklearn.py:835: UserWarning: `eval_metric` in `fit` method is deprecated for better compatibility with scikit-learn, use `eval_metric` in constructor or`set_params` instead.\n",
      "  warnings.warn(\n"
     ]
    },
    {
     "name": "stdout",
     "output_type": "stream",
     "text": [
      "Total train: 556, Total valid: 61, Bags: 1, Fold: 7, Log Loss: 0.1891\n"
     ]
    },
    {
     "name": "stderr",
     "output_type": "stream",
     "text": [
      "/opt/conda/lib/python3.10/site-packages/xgboost/sklearn.py:835: UserWarning: `eval_metric` in `fit` method is deprecated for better compatibility with scikit-learn, use `eval_metric` in constructor or`set_params` instead.\n",
      "  warnings.warn(\n"
     ]
    },
    {
     "name": "stdout",
     "output_type": "stream",
     "text": [
      "Total train: 556, Total valid: 61, Bags: 1, Fold: 8, Log Loss: 0.1459\n"
     ]
    },
    {
     "name": "stderr",
     "output_type": "stream",
     "text": [
      "/opt/conda/lib/python3.10/site-packages/xgboost/sklearn.py:835: UserWarning: `eval_metric` in `fit` method is deprecated for better compatibility with scikit-learn, use `eval_metric` in constructor or`set_params` instead.\n",
      "  warnings.warn(\n"
     ]
    },
    {
     "name": "stdout",
     "output_type": "stream",
     "text": [
      "Total train: 556, Total valid: 61, Bags: 1, Fold: 9, Log Loss: 0.3292\n",
      "Average Log Loss for Bag 1: 0.1735\n",
      "########################## bag: 2 ##########################\n"
     ]
    },
    {
     "name": "stderr",
     "output_type": "stream",
     "text": [
      "/opt/conda/lib/python3.10/site-packages/xgboost/sklearn.py:835: UserWarning: `eval_metric` in `fit` method is deprecated for better compatibility with scikit-learn, use `eval_metric` in constructor or`set_params` instead.\n",
      "  warnings.warn(\n"
     ]
    },
    {
     "name": "stdout",
     "output_type": "stream",
     "text": [
      "Total train: 555, Total valid: 62, Bags: 2, Fold: 0, Log Loss: 0.1857\n"
     ]
    },
    {
     "name": "stderr",
     "output_type": "stream",
     "text": [
      "/opt/conda/lib/python3.10/site-packages/xgboost/sklearn.py:835: UserWarning: `eval_metric` in `fit` method is deprecated for better compatibility with scikit-learn, use `eval_metric` in constructor or`set_params` instead.\n",
      "  warnings.warn(\n"
     ]
    },
    {
     "name": "stdout",
     "output_type": "stream",
     "text": [
      "Total train: 555, Total valid: 62, Bags: 2, Fold: 1, Log Loss: 0.1429\n"
     ]
    },
    {
     "name": "stderr",
     "output_type": "stream",
     "text": [
      "/opt/conda/lib/python3.10/site-packages/xgboost/sklearn.py:835: UserWarning: `eval_metric` in `fit` method is deprecated for better compatibility with scikit-learn, use `eval_metric` in constructor or`set_params` instead.\n",
      "  warnings.warn(\n"
     ]
    },
    {
     "name": "stdout",
     "output_type": "stream",
     "text": [
      "Total train: 555, Total valid: 62, Bags: 2, Fold: 2, Log Loss: 0.1366\n"
     ]
    },
    {
     "name": "stderr",
     "output_type": "stream",
     "text": [
      "/opt/conda/lib/python3.10/site-packages/xgboost/sklearn.py:835: UserWarning: `eval_metric` in `fit` method is deprecated for better compatibility with scikit-learn, use `eval_metric` in constructor or`set_params` instead.\n",
      "  warnings.warn(\n"
     ]
    },
    {
     "name": "stdout",
     "output_type": "stream",
     "text": [
      "Total train: 555, Total valid: 62, Bags: 2, Fold: 3, Log Loss: 0.0476\n"
     ]
    },
    {
     "name": "stderr",
     "output_type": "stream",
     "text": [
      "/opt/conda/lib/python3.10/site-packages/xgboost/sklearn.py:835: UserWarning: `eval_metric` in `fit` method is deprecated for better compatibility with scikit-learn, use `eval_metric` in constructor or`set_params` instead.\n",
      "  warnings.warn(\n"
     ]
    },
    {
     "name": "stdout",
     "output_type": "stream",
     "text": [
      "Total train: 555, Total valid: 62, Bags: 2, Fold: 4, Log Loss: 0.2855\n"
     ]
    },
    {
     "name": "stderr",
     "output_type": "stream",
     "text": [
      "/opt/conda/lib/python3.10/site-packages/xgboost/sklearn.py:835: UserWarning: `eval_metric` in `fit` method is deprecated for better compatibility with scikit-learn, use `eval_metric` in constructor or`set_params` instead.\n",
      "  warnings.warn(\n"
     ]
    },
    {
     "name": "stdout",
     "output_type": "stream",
     "text": [
      "Total train: 555, Total valid: 62, Bags: 2, Fold: 5, Log Loss: 0.1503\n"
     ]
    },
    {
     "name": "stderr",
     "output_type": "stream",
     "text": [
      "/opt/conda/lib/python3.10/site-packages/xgboost/sklearn.py:835: UserWarning: `eval_metric` in `fit` method is deprecated for better compatibility with scikit-learn, use `eval_metric` in constructor or`set_params` instead.\n",
      "  warnings.warn(\n"
     ]
    },
    {
     "name": "stdout",
     "output_type": "stream",
     "text": [
      "Total train: 555, Total valid: 62, Bags: 2, Fold: 6, Log Loss: 0.3244\n"
     ]
    },
    {
     "name": "stderr",
     "output_type": "stream",
     "text": [
      "/opt/conda/lib/python3.10/site-packages/xgboost/sklearn.py:835: UserWarning: `eval_metric` in `fit` method is deprecated for better compatibility with scikit-learn, use `eval_metric` in constructor or`set_params` instead.\n",
      "  warnings.warn(\n"
     ]
    },
    {
     "name": "stdout",
     "output_type": "stream",
     "text": [
      "Total train: 556, Total valid: 61, Bags: 2, Fold: 7, Log Loss: 0.1934\n"
     ]
    },
    {
     "name": "stderr",
     "output_type": "stream",
     "text": [
      "/opt/conda/lib/python3.10/site-packages/xgboost/sklearn.py:835: UserWarning: `eval_metric` in `fit` method is deprecated for better compatibility with scikit-learn, use `eval_metric` in constructor or`set_params` instead.\n",
      "  warnings.warn(\n"
     ]
    },
    {
     "name": "stdout",
     "output_type": "stream",
     "text": [
      "Total train: 556, Total valid: 61, Bags: 2, Fold: 8, Log Loss: 0.2681\n"
     ]
    },
    {
     "name": "stderr",
     "output_type": "stream",
     "text": [
      "/opt/conda/lib/python3.10/site-packages/xgboost/sklearn.py:835: UserWarning: `eval_metric` in `fit` method is deprecated for better compatibility with scikit-learn, use `eval_metric` in constructor or`set_params` instead.\n",
      "  warnings.warn(\n"
     ]
    },
    {
     "name": "stdout",
     "output_type": "stream",
     "text": [
      "Total train: 556, Total valid: 61, Bags: 2, Fold: 9, Log Loss: 0.1196\n",
      "Average Log Loss for Bag 2: 0.1854\n",
      "########################## bag: 3 ##########################\n"
     ]
    },
    {
     "name": "stderr",
     "output_type": "stream",
     "text": [
      "/opt/conda/lib/python3.10/site-packages/xgboost/sklearn.py:835: UserWarning: `eval_metric` in `fit` method is deprecated for better compatibility with scikit-learn, use `eval_metric` in constructor or`set_params` instead.\n",
      "  warnings.warn(\n"
     ]
    },
    {
     "name": "stdout",
     "output_type": "stream",
     "text": [
      "Total train: 555, Total valid: 62, Bags: 3, Fold: 0, Log Loss: 0.1295\n"
     ]
    },
    {
     "name": "stderr",
     "output_type": "stream",
     "text": [
      "/opt/conda/lib/python3.10/site-packages/xgboost/sklearn.py:835: UserWarning: `eval_metric` in `fit` method is deprecated for better compatibility with scikit-learn, use `eval_metric` in constructor or`set_params` instead.\n",
      "  warnings.warn(\n"
     ]
    },
    {
     "name": "stdout",
     "output_type": "stream",
     "text": [
      "Total train: 555, Total valid: 62, Bags: 3, Fold: 1, Log Loss: 0.2228\n"
     ]
    },
    {
     "name": "stderr",
     "output_type": "stream",
     "text": [
      "/opt/conda/lib/python3.10/site-packages/xgboost/sklearn.py:835: UserWarning: `eval_metric` in `fit` method is deprecated for better compatibility with scikit-learn, use `eval_metric` in constructor or`set_params` instead.\n",
      "  warnings.warn(\n"
     ]
    },
    {
     "name": "stdout",
     "output_type": "stream",
     "text": [
      "Total train: 555, Total valid: 62, Bags: 3, Fold: 2, Log Loss: 0.2306\n"
     ]
    },
    {
     "name": "stderr",
     "output_type": "stream",
     "text": [
      "/opt/conda/lib/python3.10/site-packages/xgboost/sklearn.py:835: UserWarning: `eval_metric` in `fit` method is deprecated for better compatibility with scikit-learn, use `eval_metric` in constructor or`set_params` instead.\n",
      "  warnings.warn(\n"
     ]
    },
    {
     "name": "stdout",
     "output_type": "stream",
     "text": [
      "Total train: 555, Total valid: 62, Bags: 3, Fold: 3, Log Loss: 0.1719\n"
     ]
    },
    {
     "name": "stderr",
     "output_type": "stream",
     "text": [
      "/opt/conda/lib/python3.10/site-packages/xgboost/sklearn.py:835: UserWarning: `eval_metric` in `fit` method is deprecated for better compatibility with scikit-learn, use `eval_metric` in constructor or`set_params` instead.\n",
      "  warnings.warn(\n"
     ]
    },
    {
     "name": "stdout",
     "output_type": "stream",
     "text": [
      "Total train: 555, Total valid: 62, Bags: 3, Fold: 4, Log Loss: 0.0962\n"
     ]
    },
    {
     "name": "stderr",
     "output_type": "stream",
     "text": [
      "/opt/conda/lib/python3.10/site-packages/xgboost/sklearn.py:835: UserWarning: `eval_metric` in `fit` method is deprecated for better compatibility with scikit-learn, use `eval_metric` in constructor or`set_params` instead.\n",
      "  warnings.warn(\n"
     ]
    },
    {
     "name": "stdout",
     "output_type": "stream",
     "text": [
      "Total train: 555, Total valid: 62, Bags: 3, Fold: 5, Log Loss: 0.2008\n"
     ]
    },
    {
     "name": "stderr",
     "output_type": "stream",
     "text": [
      "/opt/conda/lib/python3.10/site-packages/xgboost/sklearn.py:835: UserWarning: `eval_metric` in `fit` method is deprecated for better compatibility with scikit-learn, use `eval_metric` in constructor or`set_params` instead.\n",
      "  warnings.warn(\n"
     ]
    },
    {
     "name": "stdout",
     "output_type": "stream",
     "text": [
      "Total train: 555, Total valid: 62, Bags: 3, Fold: 6, Log Loss: 0.3462\n"
     ]
    },
    {
     "name": "stderr",
     "output_type": "stream",
     "text": [
      "/opt/conda/lib/python3.10/site-packages/xgboost/sklearn.py:835: UserWarning: `eval_metric` in `fit` method is deprecated for better compatibility with scikit-learn, use `eval_metric` in constructor or`set_params` instead.\n",
      "  warnings.warn(\n"
     ]
    },
    {
     "name": "stdout",
     "output_type": "stream",
     "text": [
      "Total train: 556, Total valid: 61, Bags: 3, Fold: 7, Log Loss: 0.0567\n"
     ]
    },
    {
     "name": "stderr",
     "output_type": "stream",
     "text": [
      "/opt/conda/lib/python3.10/site-packages/xgboost/sklearn.py:835: UserWarning: `eval_metric` in `fit` method is deprecated for better compatibility with scikit-learn, use `eval_metric` in constructor or`set_params` instead.\n",
      "  warnings.warn(\n"
     ]
    },
    {
     "name": "stdout",
     "output_type": "stream",
     "text": [
      "Total train: 556, Total valid: 61, Bags: 3, Fold: 8, Log Loss: 0.3709\n"
     ]
    },
    {
     "name": "stderr",
     "output_type": "stream",
     "text": [
      "/opt/conda/lib/python3.10/site-packages/xgboost/sklearn.py:835: UserWarning: `eval_metric` in `fit` method is deprecated for better compatibility with scikit-learn, use `eval_metric` in constructor or`set_params` instead.\n",
      "  warnings.warn(\n"
     ]
    },
    {
     "name": "stdout",
     "output_type": "stream",
     "text": [
      "Total train: 556, Total valid: 61, Bags: 3, Fold: 9, Log Loss: 0.2048\n",
      "Average Log Loss for Bag 3: 0.2030\n",
      "########################## bag: 4 ##########################\n"
     ]
    },
    {
     "name": "stderr",
     "output_type": "stream",
     "text": [
      "/opt/conda/lib/python3.10/site-packages/xgboost/sklearn.py:835: UserWarning: `eval_metric` in `fit` method is deprecated for better compatibility with scikit-learn, use `eval_metric` in constructor or`set_params` instead.\n",
      "  warnings.warn(\n"
     ]
    },
    {
     "name": "stdout",
     "output_type": "stream",
     "text": [
      "Total train: 555, Total valid: 62, Bags: 4, Fold: 0, Log Loss: 0.2820\n"
     ]
    },
    {
     "name": "stderr",
     "output_type": "stream",
     "text": [
      "/opt/conda/lib/python3.10/site-packages/xgboost/sklearn.py:835: UserWarning: `eval_metric` in `fit` method is deprecated for better compatibility with scikit-learn, use `eval_metric` in constructor or`set_params` instead.\n",
      "  warnings.warn(\n"
     ]
    },
    {
     "name": "stdout",
     "output_type": "stream",
     "text": [
      "Total train: 555, Total valid: 62, Bags: 4, Fold: 1, Log Loss: 0.1695\n"
     ]
    },
    {
     "name": "stderr",
     "output_type": "stream",
     "text": [
      "/opt/conda/lib/python3.10/site-packages/xgboost/sklearn.py:835: UserWarning: `eval_metric` in `fit` method is deprecated for better compatibility with scikit-learn, use `eval_metric` in constructor or`set_params` instead.\n",
      "  warnings.warn(\n"
     ]
    },
    {
     "name": "stdout",
     "output_type": "stream",
     "text": [
      "Total train: 555, Total valid: 62, Bags: 4, Fold: 2, Log Loss: 0.3013\n"
     ]
    },
    {
     "name": "stderr",
     "output_type": "stream",
     "text": [
      "/opt/conda/lib/python3.10/site-packages/xgboost/sklearn.py:835: UserWarning: `eval_metric` in `fit` method is deprecated for better compatibility with scikit-learn, use `eval_metric` in constructor or`set_params` instead.\n",
      "  warnings.warn(\n"
     ]
    },
    {
     "name": "stdout",
     "output_type": "stream",
     "text": [
      "Total train: 555, Total valid: 62, Bags: 4, Fold: 3, Log Loss: 0.0383\n"
     ]
    },
    {
     "name": "stderr",
     "output_type": "stream",
     "text": [
      "/opt/conda/lib/python3.10/site-packages/xgboost/sklearn.py:835: UserWarning: `eval_metric` in `fit` method is deprecated for better compatibility with scikit-learn, use `eval_metric` in constructor or`set_params` instead.\n",
      "  warnings.warn(\n"
     ]
    },
    {
     "name": "stdout",
     "output_type": "stream",
     "text": [
      "Total train: 555, Total valid: 62, Bags: 4, Fold: 4, Log Loss: 0.1357\n"
     ]
    },
    {
     "name": "stderr",
     "output_type": "stream",
     "text": [
      "/opt/conda/lib/python3.10/site-packages/xgboost/sklearn.py:835: UserWarning: `eval_metric` in `fit` method is deprecated for better compatibility with scikit-learn, use `eval_metric` in constructor or`set_params` instead.\n",
      "  warnings.warn(\n"
     ]
    },
    {
     "name": "stdout",
     "output_type": "stream",
     "text": [
      "Total train: 555, Total valid: 62, Bags: 4, Fold: 5, Log Loss: 0.4114\n"
     ]
    },
    {
     "name": "stderr",
     "output_type": "stream",
     "text": [
      "/opt/conda/lib/python3.10/site-packages/xgboost/sklearn.py:835: UserWarning: `eval_metric` in `fit` method is deprecated for better compatibility with scikit-learn, use `eval_metric` in constructor or`set_params` instead.\n",
      "  warnings.warn(\n"
     ]
    },
    {
     "name": "stdout",
     "output_type": "stream",
     "text": [
      "Total train: 555, Total valid: 62, Bags: 4, Fold: 6, Log Loss: 0.2940\n"
     ]
    },
    {
     "name": "stderr",
     "output_type": "stream",
     "text": [
      "/opt/conda/lib/python3.10/site-packages/xgboost/sklearn.py:835: UserWarning: `eval_metric` in `fit` method is deprecated for better compatibility with scikit-learn, use `eval_metric` in constructor or`set_params` instead.\n",
      "  warnings.warn(\n"
     ]
    },
    {
     "name": "stdout",
     "output_type": "stream",
     "text": [
      "Total train: 556, Total valid: 61, Bags: 4, Fold: 7, Log Loss: 0.1361\n"
     ]
    },
    {
     "name": "stderr",
     "output_type": "stream",
     "text": [
      "/opt/conda/lib/python3.10/site-packages/xgboost/sklearn.py:835: UserWarning: `eval_metric` in `fit` method is deprecated for better compatibility with scikit-learn, use `eval_metric` in constructor or`set_params` instead.\n",
      "  warnings.warn(\n"
     ]
    },
    {
     "name": "stdout",
     "output_type": "stream",
     "text": [
      "Total train: 556, Total valid: 61, Bags: 4, Fold: 8, Log Loss: 0.2058\n"
     ]
    },
    {
     "name": "stderr",
     "output_type": "stream",
     "text": [
      "/opt/conda/lib/python3.10/site-packages/xgboost/sklearn.py:835: UserWarning: `eval_metric` in `fit` method is deprecated for better compatibility with scikit-learn, use `eval_metric` in constructor or`set_params` instead.\n",
      "  warnings.warn(\n"
     ]
    },
    {
     "name": "stdout",
     "output_type": "stream",
     "text": [
      "Total train: 556, Total valid: 61, Bags: 4, Fold: 9, Log Loss: 0.1695\n",
      "Average Log Loss for Bag 4: 0.2144\n",
      "Average Log Loss after Full Training: 0.1915\n"
     ]
    },
    {
     "data": {
      "text/html": [
       "<div>\n",
       "<style scoped>\n",
       "    .dataframe tbody tr th:only-of-type {\n",
       "        vertical-align: middle;\n",
       "    }\n",
       "\n",
       "    .dataframe tbody tr th {\n",
       "        vertical-align: top;\n",
       "    }\n",
       "\n",
       "    .dataframe thead th {\n",
       "        text-align: right;\n",
       "    }\n",
       "</style>\n",
       "<table border=\"1\" class=\"dataframe\">\n",
       "  <thead>\n",
       "    <tr style=\"text-align: right;\">\n",
       "      <th></th>\n",
       "      <th>Id</th>\n",
       "      <th>Class_0</th>\n",
       "      <th>Class_1</th>\n",
       "    </tr>\n",
       "  </thead>\n",
       "  <tbody>\n",
       "    <tr>\n",
       "      <th>0</th>\n",
       "      <td>00eed32682bb</td>\n",
       "      <td>0.564472</td>\n",
       "      <td>0.435528</td>\n",
       "    </tr>\n",
       "    <tr>\n",
       "      <th>1</th>\n",
       "      <td>010ebe33f668</td>\n",
       "      <td>0.564472</td>\n",
       "      <td>0.435528</td>\n",
       "    </tr>\n",
       "    <tr>\n",
       "      <th>2</th>\n",
       "      <td>02fa521e1838</td>\n",
       "      <td>0.564472</td>\n",
       "      <td>0.435528</td>\n",
       "    </tr>\n",
       "    <tr>\n",
       "      <th>3</th>\n",
       "      <td>040e15f562a2</td>\n",
       "      <td>0.564472</td>\n",
       "      <td>0.435528</td>\n",
       "    </tr>\n",
       "    <tr>\n",
       "      <th>4</th>\n",
       "      <td>046e85c7cc7f</td>\n",
       "      <td>0.564472</td>\n",
       "      <td>0.435528</td>\n",
       "    </tr>\n",
       "  </tbody>\n",
       "</table>\n",
       "</div>"
      ],
      "text/plain": [
       "             Id   Class_0   Class_1\n",
       "0  00eed32682bb  0.564472  0.435528\n",
       "1  010ebe33f668  0.564472  0.435528\n",
       "2  02fa521e1838  0.564472  0.435528\n",
       "3  040e15f562a2  0.564472  0.435528\n",
       "4  046e85c7cc7f  0.564472  0.435528"
      ]
     },
     "execution_count": 2,
     "metadata": {},
     "output_type": "execute_result"
    }
   ],
   "source": [
    "import numpy as np\n",
    "import pandas as pd\n",
    "import matplotlib.pyplot as plt\n",
    "import seaborn as sns\n",
    "from tqdm.notebook import tqdm\n",
    "from sklearn.metrics import log_loss\n",
    "from sklearn.model_selection import StratifiedKFold\n",
    "from sklearn.impute import SimpleImputer\n",
    "from xgboost import XGBClassifier\n",
    "from sklearn import feature_selection\n",
    "from sklearn.calibration import CalibratedClassifierCV\n",
    "\n",
    "def select_k_best_features(train):\n",
    "    # Define the target variable\n",
    "    target = train['Class']\n",
    "    \n",
    "    # Drop unnecessary columns\n",
    "    train = train.drop(['Id', 'Class'], axis=1)\n",
    "    \n",
    "    # Map 'EJ' column to binary values\n",
    "    train['EJ'] = train['EJ'].map({'A': 0, 'B': 1})\n",
    "    \n",
    "    # Define the imputer\n",
    "    imputer = SimpleImputer(missing_values=np.nan, strategy='median')\n",
    "    \n",
    "    # Apply mean imputation on the data\n",
    "    train = pd.DataFrame(imputer.fit_transform(train), columns=train.columns)\n",
    "    \n",
    "    # Define the threshold and t-score values\n",
    "    threshold = 0.01\n",
    "    t_score = 5\n",
    "    \n",
    "    # Perform feature selection using SelectKBest and f_classif score function\n",
    "    fs = feature_selection.SelectKBest(score_func=feature_selection.f_classif, k=len(train.columns))\n",
    "    X_selected = fs.fit_transform(train, target.values)\n",
    "    \n",
    "    print(f'Before the SelectKBest = {train.shape}')\n",
    "    \n",
    "    new_features = []  # List of features with p-values below the threshold and scores above t_score\n",
    "    drop_features = []  # List of features with p-values above the threshold or scores below t_score\n",
    "    \n",
    "    for i in range(len(train.columns)):\n",
    "        print('Feature {}: {:.3f} with p-value {:.3f}'.format(train.columns[i], fs.scores_[i], fs.pvalues_[i]))\n",
    "        if fs.pvalues_[i] <= threshold and fs.scores_[i] >= t_score:\n",
    "            new_features.append(train.columns[i])\n",
    "        else:\n",
    "            drop_features.append(train.columns[i])\n",
    "    \n",
    "    X_selected_final = pd.DataFrame(X_selected)\n",
    "    X_selected_final.columns = train.columns\n",
    "    X_selected_final = X_selected_final[new_features]\n",
    "    \n",
    "    print('=' * 30)\n",
    "    print('After the SelectKBest = {}'.format(X_selected_final.shape))\n",
    "    print('Drop-out Features = {}'.format(len(drop_features)))\n",
    "    \n",
    "    return X_selected_final\n",
    "\n",
    "# Define the number of bags and folds\n",
    "bag_num = 5\n",
    "n_fold = 10\n",
    "\n",
    "# Define the competition log loss metric\n",
    "def competition_log_loss(y_true, y_pred):\n",
    "    N_0 = np.sum(1 - y_true)\n",
    "    N_1 = np.sum(y_true)\n",
    "    p_1 = np.clip(y_pred, 1e-15, 1 - 1e-15)\n",
    "    p_0 = 1 - p_1\n",
    "    log_loss_0 = -np.sum((1 - y_true) * np.log(p_0)) / N_0\n",
    "    log_loss_1 = -np.sum(y_true * np.log(p_1)) / N_1\n",
    "    return (log_loss_0 + log_loss_1) / 2\n",
    "\n",
    "# Load the data\n",
    "COMP_PATH = \"/kaggle/input/icr-identify-age-related-conditions\"\n",
    "train = pd.read_csv(f\"{COMP_PATH}/train.csv\")\n",
    "test = pd.read_csv(f\"{COMP_PATH}/test.csv\")\n",
    "\n",
    "# Apply feature selection\n",
    "df = select_k_best_features(train)\n",
    "test_df = test[df.columns]\n",
    "\n",
    "# Define the XGBoost parameters\n",
    "xgb_params = {\n",
    "    \"objective\": \"binary:logistic\",\n",
    "    \"learning_rate\": 0.06733232950390658,\n",
    "    \"n_estimators\": 50000,\n",
    "    \"early_stopping_rounds\": 300,\n",
    "    \"random_state\": 118,\n",
    "    \"subsample\": 0.8,\n",
    "    \"colsample_bytree\": 0.6055755840633003,\n",
    "    \"scale_pos_weight\": 1 / np.mean(train['Class']),\n",
    "    \"max_depth\": 3\n",
    "}\n",
    "\n",
    "# Initialize lists to store models and log losses\n",
    "models = []\n",
    "bag_log_losses = []\n",
    "feature_importance_df_total = pd.DataFrame()\n",
    "df['Class'] = train['Class']\n",
    "\n",
    "# Perform bagging and feature selection\n",
    "for bag in range(bag_num):\n",
    "    print(f'########################## bag: {bag} ##########################')\n",
    "    kf = StratifiedKFold(n_splits=n_fold, random_state=2023 * bag, shuffle=True)\n",
    "    fold_losses = []\n",
    "    for fold, (train_idx, test_idx) in enumerate(kf.split(df, df['Class'])):\n",
    "        train_df = df.iloc[train_idx]\n",
    "        valid_df = df.iloc[test_idx]\n",
    "        valid_ids = valid_df.index.values\n",
    "\n",
    "        X_train, y_train = train_df.drop('Class', axis=1), train_df['Class']\n",
    "        X_valid, y_valid = valid_df.drop('Class', axis=1), valid_df['Class']\n",
    "\n",
    "        xgb = XGBClassifier(**xgb_params)\n",
    "        xgb.fit(X_train, y_train, eval_set=[(X_valid, y_valid)], verbose=False, eval_metric='logloss')\n",
    "\n",
    "        models.append(xgb)\n",
    "\n",
    "        # Calibrate the classifier using isotonic regression\n",
    "        calibrated_clf = CalibratedClassifierCV(xgb, method='isotonic', cv='prefit')\n",
    "        calibrated_clf.fit(X_valid, y_valid)\n",
    "\n",
    "        y_pred = calibrated_clf.predict_proba(X_valid)\n",
    "        y_pred_reshaped = y_pred[:, 1]  # Select the probabilities of the positive class\n",
    "        fold_loss = competition_log_loss(y_valid, y_pred_reshaped)\n",
    "        fold_losses.append(fold_loss)\n",
    "        \n",
    "        print(f\"Total train: {len(train_df)}, Total valid: {len(valid_df)}, Bags: {bag}, Fold: {fold}, Log Loss: {fold_loss:.4f}\")\n",
    "    \n",
    "    avg_fold_loss = np.mean(fold_losses)\n",
    "    bag_log_losses.append(avg_fold_loss)\n",
    "    print(f\"Average Log Loss for Bag {bag}: {avg_fold_loss:.4f}\")\n",
    "\n",
    "avg_loss = np.mean(bag_log_losses)\n",
    "print(f\"Average Log Loss after Full Training: {avg_loss:.4f}\")\n",
    "\n",
    "# Calculate class weights based on inverse of log loss\n",
    "weights = [1 / loss for loss in bag_log_losses]\n",
    "total_weight = sum(weights)\n",
    "weights = [weight / total_weight for weight in weights]\n",
    "\n",
    "# Prepare submission dataframe\n",
    "test_df_selected = test_df[X_train.columns]  # Apply the same feature selection to the test data\n",
    "preds = np.zeros(len(test_df_selected))\n",
    "for bag, weight in zip(range(bag_num), weights):\n",
    "    for fold in range(n_fold):\n",
    "        clf = models[bag * n_fold + fold]\n",
    "        calibrated_clf = CalibratedClassifierCV(clf, method='isotonic', cv='prefit')\n",
    "        calibrated_clf.fit(X_valid, y_valid)\n",
    "        fold_preds = calibrated_clf.predict_proba(test_df_selected)[:, 1]\n",
    "        \n",
    "        # Apply sigmoid function to adjust probabilities\n",
    "        fold_preds = 1 / (1 + np.exp(-fold_preds))\n",
    "     \n",
    "        # Apply threshold for class 1\n",
    "        fold_preds = np.where(fold_preds > 0.5, 1, 0)\n",
    "        \n",
    "        preds += weight * fold_preds / n_fold\n",
    "\n",
    "# Create submission dataframe\n",
    "submission = pd.DataFrame({'Id': test['Id'], 'Class_0': 1 - preds, 'Class_1': preds})\n",
    "submission.to_csv('submission.csv', index=False)\n",
    "submission.head()\n"
   ]
  },
  {
   "cell_type": "markdown",
   "id": "b74b2db1",
   "metadata": {
    "papermill": {
     "duration": 0.007658,
     "end_time": "2023-07-01T20:46:47.520203",
     "exception": false,
     "start_time": "2023-07-01T20:46:47.512545",
     "status": "completed"
    },
    "tags": []
   },
   "source": [
    "I've added calibration to the model predictions using isotonic regression to ensure better probability estimates"
   ]
  },
  {
   "cell_type": "code",
   "execution_count": null,
   "id": "08cf9bfc",
   "metadata": {
    "papermill": {
     "duration": 0.00744,
     "end_time": "2023-07-01T20:46:47.535431",
     "exception": false,
     "start_time": "2023-07-01T20:46:47.527991",
     "status": "completed"
    },
    "tags": []
   },
   "outputs": [],
   "source": []
  }
 ],
 "metadata": {
  "kernelspec": {
   "display_name": "Python 3",
   "language": "python",
   "name": "python3"
  },
  "language_info": {
   "codemirror_mode": {
    "name": "ipython",
    "version": 3
   },
   "file_extension": ".py",
   "mimetype": "text/x-python",
   "name": "python",
   "nbconvert_exporter": "python",
   "pygments_lexer": "ipython3",
   "version": "3.10.10"
  },
  "papermill": {
   "default_parameters": {},
   "duration": 36.343656,
   "end_time": "2023-07-01T20:46:48.465934",
   "environment_variables": {},
   "exception": null,
   "input_path": "__notebook__.ipynb",
   "output_path": "__notebook__.ipynb",
   "parameters": {},
   "start_time": "2023-07-01T20:46:12.122278",
   "version": "2.4.0"
  }
 },
 "nbformat": 4,
 "nbformat_minor": 5
}
