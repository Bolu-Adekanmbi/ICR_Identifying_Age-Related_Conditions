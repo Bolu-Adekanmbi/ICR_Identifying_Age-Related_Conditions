{
 "cells": [
  {
   "cell_type": "markdown",
   "id": "c12d4258",
   "metadata": {
    "execution": {
     "iopub.execute_input": "2023-06-25T10:08:23.661832Z",
     "iopub.status.busy": "2023-06-25T10:08:23.66068Z",
     "iopub.status.idle": "2023-06-25T10:08:44.412009Z",
     "shell.execute_reply": "2023-06-25T10:08:44.409631Z",
     "shell.execute_reply.started": "2023-06-25T10:08:23.661787Z"
    },
    "papermill": {
     "duration": 0.005804,
     "end_time": "2023-07-17T08:27:48.558335",
     "exception": false,
     "start_time": "2023-07-17T08:27:48.552531",
     "status": "completed"
    },
    "tags": []
   },
   "source": [
    "ref https://www.kaggle.com/code/aikhmelnytskyy/public-krni-pdi-with-two-additional-models"
   ]
  },
  {
   "cell_type": "code",
   "execution_count": 1,
   "id": "de5ac2f9",
   "metadata": {
    "execution": {
     "iopub.execute_input": "2023-07-17T08:27:48.571654Z",
     "iopub.status.busy": "2023-07-17T08:27:48.571243Z",
     "iopub.status.idle": "2023-07-17T08:28:06.928438Z",
     "shell.execute_reply": "2023-07-17T08:28:06.926984Z"
    },
    "papermill": {
     "duration": 18.367269,
     "end_time": "2023-07-17T08:28:06.931620",
     "exception": false,
     "start_time": "2023-07-17T08:27:48.564351",
     "status": "completed"
    },
    "tags": []
   },
   "outputs": [
    {
     "name": "stdout",
     "output_type": "stream",
     "text": [
      "Looking in links: file:///kaggle/input/pip-packages-icr/pip-packages\r\n",
      "Processing /kaggle/input/pip-packages-icr/pip-packages/tabpfn-0.1.9-py3-none-any.whl\r\n",
      "Requirement already satisfied: numpy>=1.21.2 in /opt/conda/lib/python3.10/site-packages (from tabpfn) (1.23.5)\r\n",
      "Requirement already satisfied: pyyaml>=5.4.1 in /opt/conda/lib/python3.10/site-packages (from tabpfn) (5.4.1)\r\n",
      "Requirement already satisfied: requests>=2.23.0 in /opt/conda/lib/python3.10/site-packages (from tabpfn) (2.28.2)\r\n",
      "Requirement already satisfied: scikit-learn>=0.24.2 in /opt/conda/lib/python3.10/site-packages (from tabpfn) (1.2.2)\r\n",
      "Requirement already satisfied: torch>=1.9.0 in /opt/conda/lib/python3.10/site-packages (from tabpfn) (2.0.0+cpu)\r\n",
      "Requirement already satisfied: charset-normalizer<4,>=2 in /opt/conda/lib/python3.10/site-packages (from requests>=2.23.0->tabpfn) (2.1.1)\r\n",
      "Requirement already satisfied: idna<4,>=2.5 in /opt/conda/lib/python3.10/site-packages (from requests>=2.23.0->tabpfn) (3.4)\r\n",
      "Requirement already satisfied: urllib3<1.27,>=1.21.1 in /opt/conda/lib/python3.10/site-packages (from requests>=2.23.0->tabpfn) (1.26.15)\r\n",
      "Requirement already satisfied: certifi>=2017.4.17 in /opt/conda/lib/python3.10/site-packages (from requests>=2.23.0->tabpfn) (2023.5.7)\r\n",
      "Requirement already satisfied: scipy>=1.3.2 in /opt/conda/lib/python3.10/site-packages (from scikit-learn>=0.24.2->tabpfn) (1.10.1)\r\n",
      "Requirement already satisfied: joblib>=1.1.1 in /opt/conda/lib/python3.10/site-packages (from scikit-learn>=0.24.2->tabpfn) (1.2.0)\r\n",
      "Requirement already satisfied: threadpoolctl>=2.0.0 in /opt/conda/lib/python3.10/site-packages (from scikit-learn>=0.24.2->tabpfn) (3.1.0)\r\n",
      "Requirement already satisfied: filelock in /opt/conda/lib/python3.10/site-packages (from torch>=1.9.0->tabpfn) (3.12.0)\r\n",
      "Requirement already satisfied: typing-extensions in /opt/conda/lib/python3.10/site-packages (from torch>=1.9.0->tabpfn) (4.5.0)\r\n",
      "Requirement already satisfied: sympy in /opt/conda/lib/python3.10/site-packages (from torch>=1.9.0->tabpfn) (1.12)\r\n",
      "Requirement already satisfied: networkx in /opt/conda/lib/python3.10/site-packages (from torch>=1.9.0->tabpfn) (3.1)\r\n",
      "Requirement already satisfied: jinja2 in /opt/conda/lib/python3.10/site-packages (from torch>=1.9.0->tabpfn) (3.1.2)\r\n",
      "Requirement already satisfied: MarkupSafe>=2.0 in /opt/conda/lib/python3.10/site-packages (from jinja2->torch>=1.9.0->tabpfn) (2.1.2)\r\n",
      "Requirement already satisfied: mpmath>=0.19 in /opt/conda/lib/python3.10/site-packages (from sympy->torch>=1.9.0->tabpfn) (1.3.0)\r\n",
      "Installing collected packages: tabpfn\r\n",
      "Successfully installed tabpfn-0.1.9\r\n",
      "\u001b[33mWARNING: Running pip as the 'root' user can result in broken permissions and conflicting behaviour with the system package manager. It is recommended to use a virtual environment instead: https://pip.pypa.io/warnings/venv\u001b[0m\u001b[33m\r\n",
      "\u001b[0m"
     ]
    }
   ],
   "source": [
    "!pip install tabpfn --no-index --find-links=file:///kaggle/input/pip-packages-icr/pip-packages\n",
    "!mkdir -p /opt/conda/lib/python3.10/site-packages/tabpfn/models_diff\n",
    "!cp /kaggle/input/pip-packages-icr/pip-packages/prior_diff_real_checkpoint_n_0_epoch_100.cpkt /opt/conda/lib/python3.10/site-packages/tabpfn/models_diff/"
   ]
  },
  {
   "cell_type": "code",
   "execution_count": 2,
   "id": "83b432df",
   "metadata": {
    "execution": {
     "iopub.execute_input": "2023-07-17T08:28:06.947130Z",
     "iopub.status.busy": "2023-07-17T08:28:06.946299Z",
     "iopub.status.idle": "2023-07-17T08:28:15.418397Z",
     "shell.execute_reply": "2023-07-17T08:28:15.416989Z"
    },
    "papermill": {
     "duration": 8.483599,
     "end_time": "2023-07-17T08:28:15.421517",
     "exception": false,
     "start_time": "2023-07-17T08:28:06.937918",
     "status": "completed"
    },
    "tags": []
   },
   "outputs": [
    {
     "name": "stdout",
     "output_type": "stream",
     "text": [
      "Original dataset shape\n",
      "A    509\n",
      "B     61\n",
      "G     29\n",
      "D     18\n",
      "Name: Alpha, dtype: int64\n",
      "Resample dataset shape\n",
      "B    509\n",
      "A    509\n",
      "D    509\n",
      "G    509\n",
      "Name: Alpha, dtype: int64\n",
      "Loading model that can be used for inference only\n",
      "Using a Transformer with 25.82 M parameters\n",
      "Loading model that can be used for inference only\n",
      "Using a Transformer with 25.82 M parameters\n"
     ]
    }
   ],
   "source": [
    "import numpy as np\n",
    "import pandas as pd\n",
    "from sklearn.preprocessing import LabelEncoder,normalize\n",
    "from sklearn.ensemble import GradientBoostingClassifier,RandomForestClassifier\n",
    "from sklearn.metrics import accuracy_score\n",
    "from sklearn.impute import SimpleImputer\n",
    "import imblearn\n",
    "from imblearn.over_sampling import RandomOverSampler\n",
    "from imblearn.under_sampling import RandomUnderSampler\n",
    "import xgboost\n",
    "import inspect\n",
    "from collections import defaultdict\n",
    "from tabpfn import TabPFNClassifier\n",
    "import warnings\n",
    "from tqdm.notebook import tqdm\n",
    "from sklearn import feature_selection\n",
    "from sklearn.metrics import log_loss\n",
    "\n",
    "warnings.filterwarnings('ignore')\n",
    "\n",
    "train = pd.read_csv('/kaggle/input/icr-identify-age-related-conditions/train.csv')\n",
    "test = pd.read_csv('/kaggle/input/icr-identify-age-related-conditions/test.csv')\n",
    "sample = pd.read_csv('/kaggle/input/icr-identify-age-related-conditions/sample_submission.csv')\n",
    "greeks = pd.read_csv('/kaggle/input/icr-identify-age-related-conditions/greeks.csv')\n",
    "\n",
    "first_category = train.EJ.unique()[0]\n",
    "train.EJ = train.EJ.eq(first_category).astype('int')\n",
    "test.EJ = test.EJ.eq(first_category).astype('int')\n",
    "# test['EJ'] = test['EJ'].map({'A': 0, 'B': 1})\n",
    "# Define balanced log loss function\n",
    "def balanced_log_loss(y_true, y_pred):\n",
    "    nc = np.bincount(y_true)\n",
    "    return log_loss(y_true, y_pred, sample_weight=1/nc[y_true], eps=1e-15)\n",
    "\n",
    "    \n",
    "predictor_columns = [n for n in train.columns if n != 'Class' and n != 'Id']\n",
    "x = train[predictor_columns]\n",
    "y = train['Class']\n",
    "from sklearn.model_selection import KFold as KF, GridSearchCV\n",
    "cv_outer = KF(n_splits = 10, shuffle=True, random_state=42)\n",
    "cv_inner = KF(n_splits = 5, shuffle=True, random_state=42)\n",
    "from sklearn.metrics import log_loss\n",
    "\n",
    "class Ensemble():\n",
    "    def __init__(self):\n",
    "        self.imputer = SimpleImputer(missing_values=np.nan, strategy='median')\n",
    "\n",
    "        self.classifiers =[xgboost.XGBClassifier(n_estimators=100,max_depth=3,learning_rate=0.2,subsample=0.9,colsample_bytree=0.85),\n",
    "                          \n",
    "                           xgboost.XGBClassifier(objective=\"binary:logistic\",learning_rate=0.06733232950390658,n_estimators=50000,subsample=0.8,colsample_bytree=0.6055755840633003,scale_pos_weight=1 / np.mean(train['Class']),max_depth=4),\n",
    "                           \n",
    "                           TabPFNClassifier(N_ensemble_configurations=24),\n",
    "                          \n",
    "                          TabPFNClassifier(N_ensemble_configurations=64)]\n",
    "    \n",
    "    def fit(self,X,y):\n",
    "        y = y.values\n",
    "        unique_classes, y = np.unique(y, return_inverse=True)\n",
    "        self.classes_ = unique_classes\n",
    "        first_category = X.EJ.unique()[0]\n",
    "        X.EJ = X.EJ.eq(first_category).astype('int')\n",
    "        X = self.imputer.fit_transform(X)\n",
    "#         X = normalize(X,axis=0)\n",
    "        for classifier in self.classifiers:\n",
    "            if classifier==self.classifiers[2] or classifier==self.classifiers[3]:\n",
    "                classifier.fit(X,y,overwrite_warning =True)\n",
    "            else :\n",
    "                classifier.fit(X, y)\n",
    "     \n",
    "    def predict_proba(self, x):\n",
    "        x = self.imputer.transform(x)\n",
    "#         x = normalize(x,axis=0)\n",
    "        probabilities = np.stack([classifier.predict_proba(x) for classifier in self.classifiers])\n",
    "        averaged_probabilities = np.mean(probabilities, axis=0)\n",
    "        class_0_est_instances = averaged_probabilities[:, 0].sum()\n",
    "        others_est_instances = averaged_probabilities[:, 1:].sum()\n",
    "        # Weighted probabilities based on class imbalance\n",
    "        new_probabilities = averaged_probabilities * np.array([[1/(class_0_est_instances if i==0 else others_est_instances) for i in range(averaged_probabilities.shape[1])]])\n",
    "        return new_probabilities / np.sum(new_probabilities, axis=1, keepdims=1) \n",
    "    \n",
    "from datetime import datetime\n",
    "def training(model, x,y,y_meta):\n",
    "    outer_results = list()\n",
    "    best_loss = np.inf\n",
    "    split = 0\n",
    "    splits = 5\n",
    "    models=[]\n",
    "    for train_idx,val_idx in tqdm(cv_inner.split(x), total = splits):\n",
    "        split+=1\n",
    "        x_train, x_val = x.iloc[train_idx],x.iloc[val_idx]\n",
    "        y_train, y_val = y_meta.iloc[train_idx], y.iloc[val_idx]\n",
    "        #model = Ensemble()        \n",
    "        model.fit(x_train, y_train)\n",
    "        models.append(model)\n",
    "        y_pred = model.predict_proba(x_val)\n",
    "        probabilities = np.concatenate((y_pred[:,:1], np.sum(y_pred[:,1:], 1, keepdims=True)), axis=1)\n",
    "        p0 = probabilities[:,:1]\n",
    "        p0[p0 > 0.85] = 1\n",
    "        p0[p0 < 0.15] = 0\n",
    "        y_p = np.empty((y_pred.shape[0],))\n",
    "        for i in range(y_pred.shape[0]):\n",
    "            if p0[i]>=0.5:\n",
    "                y_p[i]= False\n",
    "            else :\n",
    "                y_p[i]=True\n",
    "        y_p = y_p.astype(int)\n",
    "        loss = balanced_log_loss(y_val,y_p)\n",
    "\n",
    "        if loss<best_loss:\n",
    "            best_model = model\n",
    "            best_loss = loss\n",
    "            print('best_model_saved')\n",
    "        outer_results.append(loss)\n",
    "        print('>val_loss=%.5f, split = %.1f' % (loss,split))\n",
    "    print('LOSS: %.5f' % (np.mean(outer_results)))\n",
    "    return best_model, models\n",
    "    \n",
    "times = greeks.Epsilon.copy()\n",
    "times[greeks.Epsilon != 'Unknown'] = greeks.Epsilon[greeks.Epsilon != 'Unknown'].map(lambda x: datetime.strptime(x,'%m/%d/%Y').toordinal())\n",
    "times[greeks.Epsilon == 'Unknown'] = np.nan\n",
    "# times = times.astype(float)\n",
    "\n",
    "# mean_time = int(times.mean())\n",
    "# times.fillna(mean_time, inplace=True)\n",
    "# print(mean_time)\n",
    "\n",
    "\n",
    "# times = greeks.Epsilon.copy()\n",
    "# times[greeks.Epsilon != 'Unknown'] = greeks.Epsilon[greeks.Epsilon != 'Unknown'].map(lambda x: datetime.strptime(x, '%m/%d/%Y').toordinal())\n",
    "\n",
    "# times[greeks.Epsilon == 'Unknown'] = np.nan\n",
    "# times = times.astype(float)\n",
    "\n",
    "# mean_time = int(times.mean())\n",
    "# times.fillna(mean_time, inplace=True)\n",
    "# print(mean_time)\n",
    "\n",
    "train_pred_and_time = pd.concat((train, times), axis=1)\n",
    "test_predictors = test[predictor_columns]\n",
    "first_category = test_predictors.EJ.unique()[0]\n",
    "test_predictors.EJ = test_predictors.EJ.eq(first_category).astype('int')\n",
    "\n",
    "test_pred_and_time = np.concatenate((test_predictors, np.zeros((len(test_predictors), 1)) + train_pred_and_time.Epsilon.max() + 1), axis=1)\n",
    "\n",
    "ros = RandomOverSampler(random_state=42)\n",
    "\n",
    "train_ros, y_ros = ros.fit_resample(train_pred_and_time, greeks.Alpha)\n",
    "print('Original dataset shape')\n",
    "print(greeks.Alpha.value_counts())\n",
    "print('Resample dataset shape')\n",
    "print( y_ros.value_counts())\n",
    "\n",
    "x_ros = train_ros.drop(['Class', 'Id'],axis=1)\n",
    "y_ = train_ros.Class\n",
    "\n",
    "yt = Ensemble()"
   ]
  },
  {
   "cell_type": "code",
   "execution_count": 3,
   "id": "0831cb4c",
   "metadata": {
    "execution": {
     "iopub.execute_input": "2023-07-17T08:28:15.437047Z",
     "iopub.status.busy": "2023-07-17T08:28:15.436603Z",
     "iopub.status.idle": "2023-07-17T08:58:26.318826Z",
     "shell.execute_reply": "2023-07-17T08:58:26.317429Z"
    },
    "papermill": {
     "duration": 1810.902191,
     "end_time": "2023-07-17T08:58:26.330708",
     "exception": false,
     "start_time": "2023-07-17T08:28:15.428517",
     "status": "completed"
    },
    "tags": []
   },
   "outputs": [
    {
     "data": {
      "application/vnd.jupyter.widget-view+json": {
       "model_id": "237ce3af24b84d81bdebc72b62883317",
       "version_major": 2,
       "version_minor": 0
      },
      "text/plain": [
       "  0%|          | 0/5 [00:00<?, ?it/s]"
      ]
     },
     "metadata": {},
     "output_type": "display_data"
    },
    {
     "name": "stdout",
     "output_type": "stream",
     "text": [
      "[08:28:16] WARNING: ../src/learner.cc:767: \n",
      "Parameters: { \"scale_pos_weight\" } are not used.\n",
      "\n",
      "best_model_saved\n",
      ">val_loss=0.00000, split = 1.0\n"
     ]
    },
    {
     "name": "stderr",
     "output_type": "stream",
     "text": [
      "/tmp/ipykernel_20/4028700342.py:61: SettingWithCopyWarning: \n",
      "A value is trying to be set on a copy of a slice from a DataFrame.\n",
      "Try using .loc[row_indexer,col_indexer] = value instead\n",
      "\n",
      "See the caveats in the documentation: https://pandas.pydata.org/pandas-docs/stable/user_guide/indexing.html#returning-a-view-versus-a-copy\n",
      "  X.EJ = X.EJ.eq(first_category).astype('int')\n"
     ]
    },
    {
     "name": "stdout",
     "output_type": "stream",
     "text": [
      "[08:34:20] WARNING: ../src/learner.cc:767: \n",
      "Parameters: { \"scale_pos_weight\" } are not used.\n",
      "\n",
      ">val_loss=0.00000, split = 2.0\n"
     ]
    },
    {
     "name": "stderr",
     "output_type": "stream",
     "text": [
      "/tmp/ipykernel_20/4028700342.py:61: SettingWithCopyWarning: \n",
      "A value is trying to be set on a copy of a slice from a DataFrame.\n",
      "Try using .loc[row_indexer,col_indexer] = value instead\n",
      "\n",
      "See the caveats in the documentation: https://pandas.pydata.org/pandas-docs/stable/user_guide/indexing.html#returning-a-view-versus-a-copy\n",
      "  X.EJ = X.EJ.eq(first_category).astype('int')\n"
     ]
    },
    {
     "name": "stdout",
     "output_type": "stream",
     "text": [
      "[08:40:31] WARNING: ../src/learner.cc:767: \n",
      "Parameters: { \"scale_pos_weight\" } are not used.\n",
      "\n",
      "best_model_saved\n",
      ">val_loss=0.00000, split = 3.0\n"
     ]
    },
    {
     "name": "stderr",
     "output_type": "stream",
     "text": [
      "/tmp/ipykernel_20/4028700342.py:61: SettingWithCopyWarning: \n",
      "A value is trying to be set on a copy of a slice from a DataFrame.\n",
      "Try using .loc[row_indexer,col_indexer] = value instead\n",
      "\n",
      "See the caveats in the documentation: https://pandas.pydata.org/pandas-docs/stable/user_guide/indexing.html#returning-a-view-versus-a-copy\n",
      "  X.EJ = X.EJ.eq(first_category).astype('int')\n"
     ]
    },
    {
     "name": "stdout",
     "output_type": "stream",
     "text": [
      "[08:46:31] WARNING: ../src/learner.cc:767: \n",
      "Parameters: { \"scale_pos_weight\" } are not used.\n",
      "\n",
      ">val_loss=0.19189, split = 4.0\n"
     ]
    },
    {
     "name": "stderr",
     "output_type": "stream",
     "text": [
      "/tmp/ipykernel_20/4028700342.py:61: SettingWithCopyWarning: \n",
      "A value is trying to be set on a copy of a slice from a DataFrame.\n",
      "Try using .loc[row_indexer,col_indexer] = value instead\n",
      "\n",
      "See the caveats in the documentation: https://pandas.pydata.org/pandas-docs/stable/user_guide/indexing.html#returning-a-view-versus-a-copy\n",
      "  X.EJ = X.EJ.eq(first_category).astype('int')\n"
     ]
    },
    {
     "name": "stdout",
     "output_type": "stream",
     "text": [
      "[08:52:26] WARNING: ../src/learner.cc:767: \n",
      "Parameters: { \"scale_pos_weight\" } are not used.\n",
      "\n",
      ">val_loss=0.20081, split = 5.0\n",
      "LOSS: 0.07854\n",
      "CPU times: user 1h 5min 58s, sys: 9min 48s, total: 1h 15min 47s\n",
      "Wall time: 30min 10s\n"
     ]
    }
   ],
   "source": [
    "%%time\n",
    "\n",
    "m,models = training(yt,x_ros,y_,y_ros)"
   ]
  },
  {
   "cell_type": "code",
   "execution_count": 4,
   "id": "3a4bad31",
   "metadata": {
    "execution": {
     "iopub.execute_input": "2023-07-17T08:58:26.349063Z",
     "iopub.status.busy": "2023-07-17T08:58:26.348605Z",
     "iopub.status.idle": "2023-07-17T08:58:26.357639Z",
     "shell.execute_reply": "2023-07-17T08:58:26.356584Z"
    },
    "papermill": {
     "duration": 0.021597,
     "end_time": "2023-07-17T08:58:26.359991",
     "exception": false,
     "start_time": "2023-07-17T08:58:26.338394",
     "status": "completed"
    },
    "tags": []
   },
   "outputs": [
    {
     "data": {
      "text/plain": [
       "True"
      ]
     },
     "execution_count": 4,
     "metadata": {},
     "output_type": "execute_result"
    }
   ],
   "source": [
    "test_pred_and_time.shape == (5, 57)"
   ]
  },
  {
   "cell_type": "code",
   "execution_count": 5,
   "id": "69f2ff26",
   "metadata": {
    "execution": {
     "iopub.execute_input": "2023-07-17T08:58:26.382261Z",
     "iopub.status.busy": "2023-07-17T08:58:26.381113Z",
     "iopub.status.idle": "2023-07-17T08:58:26.385781Z",
     "shell.execute_reply": "2023-07-17T08:58:26.384931Z"
    },
    "papermill": {
     "duration": 0.016338,
     "end_time": "2023-07-17T08:58:26.388039",
     "exception": false,
     "start_time": "2023-07-17T08:58:26.371701",
     "status": "completed"
    },
    "tags": []
   },
   "outputs": [],
   "source": [
    "# y_pred = m.predict_proba(test_pred_and_time)\n",
    "\n",
    "# probabilities = np.concatenate((y_pred[:,:1], np.sum(y_pred[:,1:], 1, keepdims=True)), axis=1)\n",
    "# p0 = probabilities[:,:1]\n",
    "# p0[p0 > 0.6] = 1\n",
    "# p0[p0 < 0.25] = 0\n",
    "# p0"
   ]
  },
  {
   "cell_type": "code",
   "execution_count": 6,
   "id": "f0ef375d",
   "metadata": {
    "execution": {
     "iopub.execute_input": "2023-07-17T08:58:26.406642Z",
     "iopub.status.busy": "2023-07-17T08:58:26.406115Z",
     "iopub.status.idle": "2023-07-17T09:01:58.241324Z",
     "shell.execute_reply": "2023-07-17T09:01:58.240019Z"
    },
    "papermill": {
     "duration": 211.855307,
     "end_time": "2023-07-17T09:01:58.251460",
     "exception": false,
     "start_time": "2023-07-17T08:58:26.396153",
     "status": "completed"
    },
    "tags": []
   },
   "outputs": [
    {
     "name": "stderr",
     "output_type": "stream",
     "text": [
      "/opt/conda/lib/python3.10/site-packages/sklearn/base.py:439: UserWarning: X does not have valid feature names, but SimpleImputer was fitted with feature names\n",
      "  warnings.warn(\n"
     ]
    },
    {
     "data": {
      "text/plain": [
       "array([[0.49999999, 0.24882973, 0.13599485, 0.11517542],\n",
       "       [0.49999999, 0.24882973, 0.13599485, 0.11517542],\n",
       "       [0.49999999, 0.24882973, 0.13599485, 0.11517542],\n",
       "       [0.49999999, 0.24882973, 0.13599485, 0.11517542],\n",
       "       [0.49999999, 0.24882973, 0.13599485, 0.11517542]])"
      ]
     },
     "execution_count": 6,
     "metadata": {},
     "output_type": "execute_result"
    }
   ],
   "source": [
    "y_pred = m.predict_proba(test_pred_and_time)\n",
    "\n",
    "y_pred"
   ]
  },
  {
   "cell_type": "code",
   "execution_count": 7,
   "id": "14dc4211",
   "metadata": {
    "execution": {
     "iopub.execute_input": "2023-07-17T09:01:58.270062Z",
     "iopub.status.busy": "2023-07-17T09:01:58.269610Z",
     "iopub.status.idle": "2023-07-17T09:01:58.275941Z",
     "shell.execute_reply": "2023-07-17T09:01:58.274826Z"
    },
    "papermill": {
     "duration": 0.019182,
     "end_time": "2023-07-17T09:01:58.278675",
     "exception": false,
     "start_time": "2023-07-17T09:01:58.259493",
     "status": "completed"
    },
    "tags": []
   },
   "outputs": [],
   "source": [
    "\n",
    "# # Calculate the initial positive ratio\n",
    "# positive_ratio = np.mean(y_pred[:, 0] > 0.5)\n",
    "# print(positive_ratio)\n",
    "# # Initialize the desired ratio and maximum desired ratio\n",
    "# desired_ratio = 0.10\n",
    "# max_desired_ratio = 0.15\n",
    "\n",
    "# # Keep adjusting the threshold until the positive ratio meets the desired ratio\n",
    "# threshold = 0.5\n",
    "# while positive_ratio < desired_ratio:\n",
    "#     if(threshold>0.8):\n",
    "#         threshold = 0.59\n",
    "#         break\n",
    "#     # Adjust the threshold\n",
    "#     threshold += 0.01\n",
    "\n",
    "#     # Recalculate the positive ratio\n",
    "#     positive_ratio = np.mean(y_pred[:, 0] > threshold)\n",
    "\n",
    "#     # Check if the positive ratio exceeds the maximum desired ratio\n",
    "#     if positive_ratio > max_desired_ratio:\n",
    "#         # Use the last threshold that doesn't exceed the maximum desired ratio\n",
    "#         threshold -= 0.01\n",
    "#         break\n",
    "\n",
    "# # Apply thresholding to obtain final class predictions\n",
    "# # p0 = np.where(y_pred[:, 0] > threshold, 1, 0)\n",
    "\n",
    "# probabilities = np.concatenate((y_pred[:,:1], np.sum(y_pred[:,1:], 1, keepdims=True)), axis=1)\n",
    "# p0 = probabilities[:,:1]\n",
    "# p0[p0 > threshold] = 1\n",
    "# p0[p0 < 1-threshold] = 0\n",
    "\n",
    "# print(\"Threshold:\", threshold)\n",
    "# print(\"Class 1 predictions:\", np.mean(p0))\n",
    "# print(\"Class 0 predictions:\", np.mean(1 - p0))\n",
    "# p0"
   ]
  },
  {
   "cell_type": "code",
   "execution_count": 8,
   "id": "fb094452",
   "metadata": {
    "execution": {
     "iopub.execute_input": "2023-07-17T09:01:58.297256Z",
     "iopub.status.busy": "2023-07-17T09:01:58.296495Z",
     "iopub.status.idle": "2023-07-17T09:01:58.308921Z",
     "shell.execute_reply": "2023-07-17T09:01:58.307707Z"
    },
    "papermill": {
     "duration": 0.02471,
     "end_time": "2023-07-17T09:01:58.311507",
     "exception": false,
     "start_time": "2023-07-17T09:01:58.286797",
     "status": "completed"
    },
    "tags": []
   },
   "outputs": [
    {
     "name": "stdout",
     "output_type": "stream",
     "text": [
      "0.0\n",
      "Threshold: 0.59\n",
      "Class 1 predictions: 0.0\n",
      "Class 0 predictions: 1.0\n"
     ]
    }
   ],
   "source": [
    "probabilities = np.concatenate((y_pred[:,:1], np.sum(y_pred[:,1:], 1, keepdims=True)), axis=1)\n",
    "p0 = probabilities[:,:1]\n",
    "\n",
    "# Initialize the desired ratio and maximum desired ratio\n",
    "desired_ratio = 0.15\n",
    "\n",
    "# Calculate the initial positive ratio\n",
    "positive_ratio = np.mean(p0 > 0.5)\n",
    "print(positive_ratio)\n",
    "\n",
    "# Keep adjusting the threshold until the positive ratio meets the desired ratio\n",
    "threshold = 0.5\n",
    "while positive_ratio < desired_ratio:\n",
    "    if threshold > 0.86:\n",
    "        threshold = 0.59\n",
    "        break\n",
    "    \n",
    "    # Adjust the threshold\n",
    "    threshold += 0.01\n",
    "\n",
    "    # Recalculate the positive ratio\n",
    "    positive_ratio = np.mean(p0 > threshold)\n",
    "\n",
    "# Apply thresholding to obtain final class predictions\n",
    "p0_thresholded = np.where(p0 > threshold, 1, 0)\n",
    "\n",
    "print(\"Threshold:\", threshold)\n",
    "print(\"Class 1 predictions:\", np.mean(p0_thresholded))\n",
    "print(\"Class 0 predictions:\", np.mean(1 - p0_thresholded))\n"
   ]
  },
  {
   "cell_type": "code",
   "execution_count": 9,
   "id": "e680f40d",
   "metadata": {
    "execution": {
     "iopub.execute_input": "2023-07-17T09:01:58.329982Z",
     "iopub.status.busy": "2023-07-17T09:01:58.329580Z",
     "iopub.status.idle": "2023-07-17T09:01:58.348591Z",
     "shell.execute_reply": "2023-07-17T09:01:58.347535Z"
    },
    "papermill": {
     "duration": 0.031652,
     "end_time": "2023-07-17T09:01:58.351367",
     "exception": false,
     "start_time": "2023-07-17T09:01:58.319715",
     "status": "completed"
    },
    "tags": []
   },
   "outputs": [],
   "source": [
    "submission = pd.DataFrame(test[\"Id\"], columns=[\"Id\"])\n",
    "submission[\"class_0\"] = p0\n",
    "submission[\"class_1\"] = 1 - p0\n",
    "submission.to_csv('submission.csv', index=False)"
   ]
  },
  {
   "cell_type": "code",
   "execution_count": 10,
   "id": "6e88ff06",
   "metadata": {
    "execution": {
     "iopub.execute_input": "2023-07-17T09:01:58.370033Z",
     "iopub.status.busy": "2023-07-17T09:01:58.369641Z",
     "iopub.status.idle": "2023-07-17T09:01:58.399923Z",
     "shell.execute_reply": "2023-07-17T09:01:58.398416Z"
    },
    "papermill": {
     "duration": 0.043409,
     "end_time": "2023-07-17T09:01:58.403057",
     "exception": false,
     "start_time": "2023-07-17T09:01:58.359648",
     "status": "completed"
    },
    "tags": []
   },
   "outputs": [
    {
     "data": {
      "text/html": [
       "<div>\n",
       "<style scoped>\n",
       "    .dataframe tbody tr th:only-of-type {\n",
       "        vertical-align: middle;\n",
       "    }\n",
       "\n",
       "    .dataframe tbody tr th {\n",
       "        vertical-align: top;\n",
       "    }\n",
       "\n",
       "    .dataframe thead th {\n",
       "        text-align: right;\n",
       "    }\n",
       "</style>\n",
       "<table border=\"1\" class=\"dataframe\">\n",
       "  <thead>\n",
       "    <tr style=\"text-align: right;\">\n",
       "      <th></th>\n",
       "      <th>Id</th>\n",
       "      <th>class_0</th>\n",
       "      <th>class_1</th>\n",
       "    </tr>\n",
       "  </thead>\n",
       "  <tbody>\n",
       "    <tr>\n",
       "      <th>0</th>\n",
       "      <td>00eed32682bb</td>\n",
       "      <td>0.5</td>\n",
       "      <td>0.5</td>\n",
       "    </tr>\n",
       "    <tr>\n",
       "      <th>1</th>\n",
       "      <td>010ebe33f668</td>\n",
       "      <td>0.5</td>\n",
       "      <td>0.5</td>\n",
       "    </tr>\n",
       "    <tr>\n",
       "      <th>2</th>\n",
       "      <td>02fa521e1838</td>\n",
       "      <td>0.5</td>\n",
       "      <td>0.5</td>\n",
       "    </tr>\n",
       "    <tr>\n",
       "      <th>3</th>\n",
       "      <td>040e15f562a2</td>\n",
       "      <td>0.5</td>\n",
       "      <td>0.5</td>\n",
       "    </tr>\n",
       "    <tr>\n",
       "      <th>4</th>\n",
       "      <td>046e85c7cc7f</td>\n",
       "      <td>0.5</td>\n",
       "      <td>0.5</td>\n",
       "    </tr>\n",
       "  </tbody>\n",
       "</table>\n",
       "</div>"
      ],
      "text/plain": [
       "             Id  class_0  class_1\n",
       "0  00eed32682bb      0.5      0.5\n",
       "1  010ebe33f668      0.5      0.5\n",
       "2  02fa521e1838      0.5      0.5\n",
       "3  040e15f562a2      0.5      0.5\n",
       "4  046e85c7cc7f      0.5      0.5"
      ]
     },
     "execution_count": 10,
     "metadata": {},
     "output_type": "execute_result"
    }
   ],
   "source": [
    "submission_df = pd.read_csv('submission.csv')\n",
    "submission_df"
   ]
  },
  {
   "cell_type": "code",
   "execution_count": 11,
   "id": "7a4a75dd",
   "metadata": {
    "execution": {
     "iopub.execute_input": "2023-07-17T09:01:58.422135Z",
     "iopub.status.busy": "2023-07-17T09:01:58.421650Z",
     "iopub.status.idle": "2023-07-17T09:01:58.429287Z",
     "shell.execute_reply": "2023-07-17T09:01:58.428051Z"
    },
    "papermill": {
     "duration": 0.020139,
     "end_time": "2023-07-17T09:01:58.431840",
     "exception": false,
     "start_time": "2023-07-17T09:01:58.411701",
     "status": "completed"
    },
    "tags": []
   },
   "outputs": [
    {
     "data": {
      "text/plain": [
       "array([[0.49999999],\n",
       "       [0.49999999],\n",
       "       [0.49999999],\n",
       "       [0.49999999],\n",
       "       [0.49999999]])"
      ]
     },
     "execution_count": 11,
     "metadata": {},
     "output_type": "execute_result"
    }
   ],
   "source": [
    "p0"
   ]
  },
  {
   "cell_type": "code",
   "execution_count": null,
   "id": "a315d324",
   "metadata": {
    "papermill": {
     "duration": 0.008174,
     "end_time": "2023-07-17T09:01:58.448841",
     "exception": false,
     "start_time": "2023-07-17T09:01:58.440667",
     "status": "completed"
    },
    "tags": []
   },
   "outputs": [],
   "source": []
  }
 ],
 "metadata": {
  "kernelspec": {
   "display_name": "Python 3",
   "language": "python",
   "name": "python3"
  },
  "language_info": {
   "codemirror_mode": {
    "name": "ipython",
    "version": 3
   },
   "file_extension": ".py",
   "mimetype": "text/x-python",
   "name": "python",
   "nbconvert_exporter": "python",
   "pygments_lexer": "ipython3",
   "version": "3.10.10"
  },
  "papermill": {
   "default_parameters": {},
   "duration": 2067.641905,
   "end_time": "2023-07-17T09:02:01.424157",
   "environment_variables": {},
   "exception": null,
   "input_path": "__notebook__.ipynb",
   "output_path": "__notebook__.ipynb",
   "parameters": {},
   "start_time": "2023-07-17T08:27:33.782252",
   "version": "2.4.0"
  },
  "widgets": {
   "application/vnd.jupyter.widget-state+json": {
    "state": {
     "042ff9c8d50847aa9c801dea82a2b854": {
      "model_module": "@jupyter-widgets/controls",
      "model_module_version": "1.5.0",
      "model_name": "ProgressStyleModel",
      "state": {
       "_model_module": "@jupyter-widgets/controls",
       "_model_module_version": "1.5.0",
       "_model_name": "ProgressStyleModel",
       "_view_count": null,
       "_view_module": "@jupyter-widgets/base",
       "_view_module_version": "1.2.0",
       "_view_name": "StyleView",
       "bar_color": null,
       "description_width": ""
      }
     },
     "237ce3af24b84d81bdebc72b62883317": {
      "model_module": "@jupyter-widgets/controls",
      "model_module_version": "1.5.0",
      "model_name": "HBoxModel",
      "state": {
       "_dom_classes": [],
       "_model_module": "@jupyter-widgets/controls",
       "_model_module_version": "1.5.0",
       "_model_name": "HBoxModel",
       "_view_count": null,
       "_view_module": "@jupyter-widgets/controls",
       "_view_module_version": "1.5.0",
       "_view_name": "HBoxView",
       "box_style": "",
       "children": [
        "IPY_MODEL_fcfc979b891241558a5d03e70e2e922f",
        "IPY_MODEL_5aa804d433044248ad9348b66f5f2872",
        "IPY_MODEL_9c98707b202a44b89458713c312f5c15"
       ],
       "layout": "IPY_MODEL_85c30f95318d465987f56c56638142a8"
      }
     },
     "5aa804d433044248ad9348b66f5f2872": {
      "model_module": "@jupyter-widgets/controls",
      "model_module_version": "1.5.0",
      "model_name": "FloatProgressModel",
      "state": {
       "_dom_classes": [],
       "_model_module": "@jupyter-widgets/controls",
       "_model_module_version": "1.5.0",
       "_model_name": "FloatProgressModel",
       "_view_count": null,
       "_view_module": "@jupyter-widgets/controls",
       "_view_module_version": "1.5.0",
       "_view_name": "ProgressView",
       "bar_style": "success",
       "description": "",
       "description_tooltip": null,
       "layout": "IPY_MODEL_669234279e174263a924449d9547ab71",
       "max": 5.0,
       "min": 0.0,
       "orientation": "horizontal",
       "style": "IPY_MODEL_042ff9c8d50847aa9c801dea82a2b854",
       "value": 5.0
      }
     },
     "5bd9bf9f75ec4d539e393fe69ae486cc": {
      "model_module": "@jupyter-widgets/base",
      "model_module_version": "1.2.0",
      "model_name": "LayoutModel",
      "state": {
       "_model_module": "@jupyter-widgets/base",
       "_model_module_version": "1.2.0",
       "_model_name": "LayoutModel",
       "_view_count": null,
       "_view_module": "@jupyter-widgets/base",
       "_view_module_version": "1.2.0",
       "_view_name": "LayoutView",
       "align_content": null,
       "align_items": null,
       "align_self": null,
       "border": null,
       "bottom": null,
       "display": null,
       "flex": null,
       "flex_flow": null,
       "grid_area": null,
       "grid_auto_columns": null,
       "grid_auto_flow": null,
       "grid_auto_rows": null,
       "grid_column": null,
       "grid_gap": null,
       "grid_row": null,
       "grid_template_areas": null,
       "grid_template_columns": null,
       "grid_template_rows": null,
       "height": null,
       "justify_content": null,
       "justify_items": null,
       "left": null,
       "margin": null,
       "max_height": null,
       "max_width": null,
       "min_height": null,
       "min_width": null,
       "object_fit": null,
       "object_position": null,
       "order": null,
       "overflow": null,
       "overflow_x": null,
       "overflow_y": null,
       "padding": null,
       "right": null,
       "top": null,
       "visibility": null,
       "width": null
      }
     },
     "669234279e174263a924449d9547ab71": {
      "model_module": "@jupyter-widgets/base",
      "model_module_version": "1.2.0",
      "model_name": "LayoutModel",
      "state": {
       "_model_module": "@jupyter-widgets/base",
       "_model_module_version": "1.2.0",
       "_model_name": "LayoutModel",
       "_view_count": null,
       "_view_module": "@jupyter-widgets/base",
       "_view_module_version": "1.2.0",
       "_view_name": "LayoutView",
       "align_content": null,
       "align_items": null,
       "align_self": null,
       "border": null,
       "bottom": null,
       "display": null,
       "flex": null,
       "flex_flow": null,
       "grid_area": null,
       "grid_auto_columns": null,
       "grid_auto_flow": null,
       "grid_auto_rows": null,
       "grid_column": null,
       "grid_gap": null,
       "grid_row": null,
       "grid_template_areas": null,
       "grid_template_columns": null,
       "grid_template_rows": null,
       "height": null,
       "justify_content": null,
       "justify_items": null,
       "left": null,
       "margin": null,
       "max_height": null,
       "max_width": null,
       "min_height": null,
       "min_width": null,
       "object_fit": null,
       "object_position": null,
       "order": null,
       "overflow": null,
       "overflow_x": null,
       "overflow_y": null,
       "padding": null,
       "right": null,
       "top": null,
       "visibility": null,
       "width": null
      }
     },
     "73249737c15640e186a2cc1bdfc96d48": {
      "model_module": "@jupyter-widgets/controls",
      "model_module_version": "1.5.0",
      "model_name": "DescriptionStyleModel",
      "state": {
       "_model_module": "@jupyter-widgets/controls",
       "_model_module_version": "1.5.0",
       "_model_name": "DescriptionStyleModel",
       "_view_count": null,
       "_view_module": "@jupyter-widgets/base",
       "_view_module_version": "1.2.0",
       "_view_name": "StyleView",
       "description_width": ""
      }
     },
     "85c30f95318d465987f56c56638142a8": {
      "model_module": "@jupyter-widgets/base",
      "model_module_version": "1.2.0",
      "model_name": "LayoutModel",
      "state": {
       "_model_module": "@jupyter-widgets/base",
       "_model_module_version": "1.2.0",
       "_model_name": "LayoutModel",
       "_view_count": null,
       "_view_module": "@jupyter-widgets/base",
       "_view_module_version": "1.2.0",
       "_view_name": "LayoutView",
       "align_content": null,
       "align_items": null,
       "align_self": null,
       "border": null,
       "bottom": null,
       "display": null,
       "flex": null,
       "flex_flow": null,
       "grid_area": null,
       "grid_auto_columns": null,
       "grid_auto_flow": null,
       "grid_auto_rows": null,
       "grid_column": null,
       "grid_gap": null,
       "grid_row": null,
       "grid_template_areas": null,
       "grid_template_columns": null,
       "grid_template_rows": null,
       "height": null,
       "justify_content": null,
       "justify_items": null,
       "left": null,
       "margin": null,
       "max_height": null,
       "max_width": null,
       "min_height": null,
       "min_width": null,
       "object_fit": null,
       "object_position": null,
       "order": null,
       "overflow": null,
       "overflow_x": null,
       "overflow_y": null,
       "padding": null,
       "right": null,
       "top": null,
       "visibility": null,
       "width": null
      }
     },
     "8ca17994be8d48c99f10c3d4cdee71f7": {
      "model_module": "@jupyter-widgets/controls",
      "model_module_version": "1.5.0",
      "model_name": "DescriptionStyleModel",
      "state": {
       "_model_module": "@jupyter-widgets/controls",
       "_model_module_version": "1.5.0",
       "_model_name": "DescriptionStyleModel",
       "_view_count": null,
       "_view_module": "@jupyter-widgets/base",
       "_view_module_version": "1.2.0",
       "_view_name": "StyleView",
       "description_width": ""
      }
     },
     "9c98707b202a44b89458713c312f5c15": {
      "model_module": "@jupyter-widgets/controls",
      "model_module_version": "1.5.0",
      "model_name": "HTMLModel",
      "state": {
       "_dom_classes": [],
       "_model_module": "@jupyter-widgets/controls",
       "_model_module_version": "1.5.0",
       "_model_name": "HTMLModel",
       "_view_count": null,
       "_view_module": "@jupyter-widgets/controls",
       "_view_module_version": "1.5.0",
       "_view_name": "HTMLView",
       "description": "",
       "description_tooltip": null,
       "layout": "IPY_MODEL_df1ddffd54e2410c80dcf865e319a5ee",
       "placeholder": "​",
       "style": "IPY_MODEL_73249737c15640e186a2cc1bdfc96d48",
       "value": " 5/5 [30:10&lt;00:00, 360.63s/it]"
      }
     },
     "df1ddffd54e2410c80dcf865e319a5ee": {
      "model_module": "@jupyter-widgets/base",
      "model_module_version": "1.2.0",
      "model_name": "LayoutModel",
      "state": {
       "_model_module": "@jupyter-widgets/base",
       "_model_module_version": "1.2.0",
       "_model_name": "LayoutModel",
       "_view_count": null,
       "_view_module": "@jupyter-widgets/base",
       "_view_module_version": "1.2.0",
       "_view_name": "LayoutView",
       "align_content": null,
       "align_items": null,
       "align_self": null,
       "border": null,
       "bottom": null,
       "display": null,
       "flex": null,
       "flex_flow": null,
       "grid_area": null,
       "grid_auto_columns": null,
       "grid_auto_flow": null,
       "grid_auto_rows": null,
       "grid_column": null,
       "grid_gap": null,
       "grid_row": null,
       "grid_template_areas": null,
       "grid_template_columns": null,
       "grid_template_rows": null,
       "height": null,
       "justify_content": null,
       "justify_items": null,
       "left": null,
       "margin": null,
       "max_height": null,
       "max_width": null,
       "min_height": null,
       "min_width": null,
       "object_fit": null,
       "object_position": null,
       "order": null,
       "overflow": null,
       "overflow_x": null,
       "overflow_y": null,
       "padding": null,
       "right": null,
       "top": null,
       "visibility": null,
       "width": null
      }
     },
     "fcfc979b891241558a5d03e70e2e922f": {
      "model_module": "@jupyter-widgets/controls",
      "model_module_version": "1.5.0",
      "model_name": "HTMLModel",
      "state": {
       "_dom_classes": [],
       "_model_module": "@jupyter-widgets/controls",
       "_model_module_version": "1.5.0",
       "_model_name": "HTMLModel",
       "_view_count": null,
       "_view_module": "@jupyter-widgets/controls",
       "_view_module_version": "1.5.0",
       "_view_name": "HTMLView",
       "description": "",
       "description_tooltip": null,
       "layout": "IPY_MODEL_5bd9bf9f75ec4d539e393fe69ae486cc",
       "placeholder": "​",
       "style": "IPY_MODEL_8ca17994be8d48c99f10c3d4cdee71f7",
       "value": "100%"
      }
     }
    },
    "version_major": 2,
    "version_minor": 0
   }
  }
 },
 "nbformat": 4,
 "nbformat_minor": 5
}
